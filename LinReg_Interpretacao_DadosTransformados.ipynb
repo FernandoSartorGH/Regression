{
 "cells": [
  {
   "cell_type": "markdown",
   "id": "0f40b1a2",
   "metadata": {},
   "source": [
    "### "
   ]
  },
  {
   "cell_type": "markdown",
   "id": "8a476dfd",
   "metadata": {},
   "source": [
    "# <center> Interpretação dos parâmetros de regressão linear com dados transformados"
   ]
  },
  {
   "cell_type": "markdown",
   "id": "76a9f3e3",
   "metadata": {},
   "source": [
    "___"
   ]
  },
  {
   "cell_type": "markdown",
   "id": "24224c72",
   "metadata": {},
   "source": [
    "## Objetivo"
   ]
  },
  {
   "cell_type": "markdown",
   "id": "42657aef",
   "metadata": {},
   "source": [
    "Este material irá demonstrar como a unidade de medida dos dados pode alterar a interpretação dos parâmetros em modelos de regressão linear. \n",
    "\n",
    "Temos vasto material sobre as aplicações e importância da transformação dos dados na construção de modelos de machine learning. Muitos algoritimos já esperam receber os dados em um formato específico, outros são flexíveis, cabendo ao analista aplicar e testar as transformações para encontrar o melhor modelo.\n",
    "\n",
    "Desde que não precisemos interpretar individualmente como cada variável afeta a variável resposta, o entendimento sobre o impacto da transformação nos dados pode ser secundário. Caso seja necessário maior interpretabilidade do modelo, precisamos compreender de que forma essas transformções afetam a interpretação do parâmetros."
   ]
  },
  {
   "cell_type": "markdown",
   "id": "57b0e6f4",
   "metadata": {},
   "source": [
    "## Descrição dos dados"
   ]
  },
  {
   "cell_type": "markdown",
   "id": "15408ed3",
   "metadata": {},
   "source": [
    "O dataset contém os dados de consumo de bens duráveis, não duráveis, consumo de serviços e despesas totais de consumo pessoal por trimestre nos EUA medidos em bilhões entre os anos de 2003 e 2006.\n",
    "\n",
    "Mais informações sobre este e outros modelos podem ser econtrados no livro Econometria básica de Damodar e Porter no capítulo 6. Os dados podem ser obtidos na tabela 6.3.\n",
    "\n",
    "\n",
    "Descrição:\n",
    "* QUARTER: Ano e trimestre\n",
    "* EXPSERVICES: Gastos com serviços\n",
    "* EXPDUR: Gastos com bens duráveis\n",
    "* EXPNONDUR: Gastos com bens não duráveis\n",
    "* PCEXP: Despesas totais com consumo pessoal\n",
    "\n",
    "Vamos explorar os modelos a seguir observando o comportamento dos gastos com bens duráveis em relação aos gastos totais.\n",
    "\n",
    "* LinLin - Variáveis independentes (X) e dependente (y) nominais (escala/formato original)\n",
    "* LinLog - Variáveis independentes transformadas (Log(X)) e dependente (y) nominal.\n",
    "* LogLin - Variáveis independentes nominais (X) e dependente transformada (Log(y)).\n",
    "* LogLog - Variáveis independentes e dependente com transformação log.\n",
    "* LinLin Recíproco - Variáveis independentes 1/x\n",
    "* Dados padronizados - Média 0 e desvio-padrão 1.\n",
    "\n",
    "Também vamos explorar a taxa de crescimento dos gastos com serviços no tempo."
   ]
  },
  {
   "cell_type": "markdown",
   "id": "4d025948",
   "metadata": {},
   "source": [
    "___"
   ]
  },
  {
   "cell_type": "markdown",
   "id": "6a289eb3",
   "metadata": {},
   "source": [
    "# Pacotes e dados"
   ]
  },
  {
   "cell_type": "code",
   "execution_count": 1,
   "id": "40b727b4",
   "metadata": {},
   "outputs": [],
   "source": [
    "# Importar pacotes\n",
    "import warnings\n",
    "warnings.filterwarnings('ignore')\n",
    "\n",
    "import numpy as np\n",
    "import pandas as pd\n",
    "import statsmodels.api as sm"
   ]
  },
  {
   "cell_type": "code",
   "execution_count": 2,
   "id": "6b791daf",
   "metadata": {},
   "outputs": [],
   "source": [
    "# Importar dados\n",
    "dados = pd.read_excel('dados/Damodar_Dataset/Table 6_3.xls', skiprows = 4, nrows = 14)\n",
    "\n",
    "df = dados.copy()"
   ]
  },
  {
   "cell_type": "code",
   "execution_count": 3,
   "id": "b9c3df67",
   "metadata": {},
   "outputs": [
    {
     "data": {
      "text/html": [
       "<div>\n",
       "<style scoped>\n",
       "    .dataframe tbody tr th:only-of-type {\n",
       "        vertical-align: middle;\n",
       "    }\n",
       "\n",
       "    .dataframe tbody tr th {\n",
       "        vertical-align: top;\n",
       "    }\n",
       "\n",
       "    .dataframe thead th {\n",
       "        text-align: right;\n",
       "    }\n",
       "</style>\n",
       "<table border=\"1\" class=\"dataframe\">\n",
       "  <thead>\n",
       "    <tr style=\"text-align: right;\">\n",
       "      <th></th>\n",
       "      <th>YEAR-QUARTER</th>\n",
       "      <th>EXPSERVICES</th>\n",
       "      <th>EXPDUR</th>\n",
       "      <th>EXPNONDUR</th>\n",
       "      <th>PCEXP</th>\n",
       "    </tr>\n",
       "  </thead>\n",
       "  <tbody>\n",
       "    <tr>\n",
       "      <th>0</th>\n",
       "      <td>2003-I</td>\n",
       "      <td>4143.3</td>\n",
       "      <td>971.4</td>\n",
       "      <td>2072.5</td>\n",
       "      <td>7184.9</td>\n",
       "    </tr>\n",
       "    <tr>\n",
       "      <th>1</th>\n",
       "      <td>2003-II</td>\n",
       "      <td>4161.3</td>\n",
       "      <td>1009.8</td>\n",
       "      <td>2084.2</td>\n",
       "      <td>7249.3</td>\n",
       "    </tr>\n",
       "    <tr>\n",
       "      <th>2</th>\n",
       "      <td>2003-III</td>\n",
       "      <td>4190.7</td>\n",
       "      <td>1049.6</td>\n",
       "      <td>2123.0</td>\n",
       "      <td>7352.9</td>\n",
       "    </tr>\n",
       "    <tr>\n",
       "      <th>3</th>\n",
       "      <td>2003-IV</td>\n",
       "      <td>4220.2</td>\n",
       "      <td>1051.4</td>\n",
       "      <td>2132.5</td>\n",
       "      <td>7394.3</td>\n",
       "    </tr>\n",
       "    <tr>\n",
       "      <th>4</th>\n",
       "      <td>2004-I</td>\n",
       "      <td>4268.2</td>\n",
       "      <td>1067.0</td>\n",
       "      <td>2155.3</td>\n",
       "      <td>7479.8</td>\n",
       "    </tr>\n",
       "    <tr>\n",
       "      <th>5</th>\n",
       "      <td>2004-II</td>\n",
       "      <td>4308.4</td>\n",
       "      <td>1071.4</td>\n",
       "      <td>2164.3</td>\n",
       "      <td>7534.4</td>\n",
       "    </tr>\n",
       "    <tr>\n",
       "      <th>6</th>\n",
       "      <td>2004-III</td>\n",
       "      <td>4341.5</td>\n",
       "      <td>1093.9</td>\n",
       "      <td>2184.0</td>\n",
       "      <td>7607.1</td>\n",
       "    </tr>\n",
       "    <tr>\n",
       "      <th>7</th>\n",
       "      <td>2004-IV</td>\n",
       "      <td>4377.4</td>\n",
       "      <td>1110.3</td>\n",
       "      <td>2213.1</td>\n",
       "      <td>7687.1</td>\n",
       "    </tr>\n",
       "    <tr>\n",
       "      <th>8</th>\n",
       "      <td>2005-I</td>\n",
       "      <td>4395.3</td>\n",
       "      <td>1116.8</td>\n",
       "      <td>2241.5</td>\n",
       "      <td>7739.4</td>\n",
       "    </tr>\n",
       "    <tr>\n",
       "      <th>9</th>\n",
       "      <td>2005-II</td>\n",
       "      <td>4420.0</td>\n",
       "      <td>1150.8</td>\n",
       "      <td>2268.4</td>\n",
       "      <td>7819.8</td>\n",
       "    </tr>\n",
       "    <tr>\n",
       "      <th>10</th>\n",
       "      <td>2005-III</td>\n",
       "      <td>4454.5</td>\n",
       "      <td>1175.9</td>\n",
       "      <td>2287.6</td>\n",
       "      <td>7895.3</td>\n",
       "    </tr>\n",
       "    <tr>\n",
       "      <th>11</th>\n",
       "      <td>2005-IV</td>\n",
       "      <td>4476.7</td>\n",
       "      <td>1137.9</td>\n",
       "      <td>2309.6</td>\n",
       "      <td>7910.2</td>\n",
       "    </tr>\n",
       "    <tr>\n",
       "      <th>12</th>\n",
       "      <td>2006-I</td>\n",
       "      <td>4494.5</td>\n",
       "      <td>1190.5</td>\n",
       "      <td>2342.8</td>\n",
       "      <td>8003.8</td>\n",
       "    </tr>\n",
       "    <tr>\n",
       "      <th>13</th>\n",
       "      <td>2006-II</td>\n",
       "      <td>4535.4</td>\n",
       "      <td>1190.3</td>\n",
       "      <td>2351.1</td>\n",
       "      <td>8055.0</td>\n",
       "    </tr>\n",
       "  </tbody>\n",
       "</table>\n",
       "</div>"
      ],
      "text/plain": [
       "   YEAR-QUARTER  EXPSERVICES  EXPDUR  EXPNONDUR   PCEXP\n",
       "0       2003-I        4143.3   971.4     2072.5  7184.9\n",
       "1      2003-II        4161.3  1009.8     2084.2  7249.3\n",
       "2     2003-III        4190.7  1049.6     2123.0  7352.9\n",
       "3       2003-IV       4220.2  1051.4     2132.5  7394.3\n",
       "4       2004-I        4268.2  1067.0     2155.3  7479.8\n",
       "5      2004-II        4308.4  1071.4     2164.3  7534.4\n",
       "6     2004-III        4341.5  1093.9     2184.0  7607.1\n",
       "7       2004-IV       4377.4  1110.3     2213.1  7687.1\n",
       "8       2005-I        4395.3  1116.8     2241.5  7739.4\n",
       "9      2005-II        4420.0  1150.8     2268.4  7819.8\n",
       "10    2005-III        4454.5  1175.9     2287.6  7895.3\n",
       "11    2005-IV         4476.7  1137.9     2309.6  7910.2\n",
       "12      2006-I        4494.5  1190.5     2342.8  8003.8\n",
       "13     2006-II        4535.4  1190.3     2351.1  8055.0"
      ]
     },
     "execution_count": 3,
     "metadata": {},
     "output_type": "execute_result"
    }
   ],
   "source": [
    "# Visualizar\n",
    "df"
   ]
  },
  {
   "cell_type": "markdown",
   "id": "e600d4a4",
   "metadata": {},
   "source": [
    "___"
   ]
  },
  {
   "cell_type": "markdown",
   "id": "f7122b8b",
   "metadata": {},
   "source": [
    "# Análise exploratória"
   ]
  },
  {
   "cell_type": "code",
   "execution_count": 4,
   "id": "1d486ff7",
   "metadata": {},
   "outputs": [
    {
     "name": "stdout",
     "output_type": "stream",
     "text": [
      "<class 'pandas.core.frame.DataFrame'>\n",
      "RangeIndex: 14 entries, 0 to 13\n",
      "Data columns (total 5 columns):\n",
      " #   Column        Non-Null Count  Dtype  \n",
      "---  ------        --------------  -----  \n",
      " 0   YEAR-QUARTER  14 non-null     object \n",
      " 1   EXPSERVICES   14 non-null     float64\n",
      " 2   EXPDUR        14 non-null     float64\n",
      " 3   EXPNONDUR     14 non-null     float64\n",
      " 4   PCEXP         14 non-null     float64\n",
      "dtypes: float64(4), object(1)\n",
      "memory usage: 688.0+ bytes\n"
     ]
    }
   ],
   "source": [
    "df.info()"
   ]
  },
  {
   "cell_type": "markdown",
   "id": "daf0b168",
   "metadata": {},
   "source": [
    "# Processamento "
   ]
  },
  {
   "cell_type": "markdown",
   "id": "fdaa51cd",
   "metadata": {},
   "source": [
    "O dataset dispensa qualquer tratamento. Vamos apenas adicionar a variável TIME e fazer algumas transformações que serão úteis mais a frente."
   ]
  },
  {
   "cell_type": "code",
   "execution_count": 5,
   "id": "00fde888",
   "metadata": {},
   "outputs": [
    {
     "data": {
      "text/html": [
       "<div>\n",
       "<style scoped>\n",
       "    .dataframe tbody tr th:only-of-type {\n",
       "        vertical-align: middle;\n",
       "    }\n",
       "\n",
       "    .dataframe tbody tr th {\n",
       "        vertical-align: top;\n",
       "    }\n",
       "\n",
       "    .dataframe thead th {\n",
       "        text-align: right;\n",
       "    }\n",
       "</style>\n",
       "<table border=\"1\" class=\"dataframe\">\n",
       "  <thead>\n",
       "    <tr style=\"text-align: right;\">\n",
       "      <th></th>\n",
       "      <th>YEAR-QUARTER</th>\n",
       "      <th>EXPDUR</th>\n",
       "      <th>PCEXP</th>\n",
       "      <th>EXPSERVICES</th>\n",
       "      <th>TIME</th>\n",
       "      <th>EXPDUR_STD</th>\n",
       "      <th>PCEXP_STD</th>\n",
       "      <th>1/PCEXP</th>\n",
       "      <th>EXPDUR_LOG</th>\n",
       "      <th>PCEXP_LOG</th>\n",
       "    </tr>\n",
       "  </thead>\n",
       "  <tbody>\n",
       "    <tr>\n",
       "      <th>0</th>\n",
       "      <td>2003-I</td>\n",
       "      <td>971.4</td>\n",
       "      <td>7184.9</td>\n",
       "      <td>4143.3</td>\n",
       "      <td>1</td>\n",
       "      <td>-1.911090</td>\n",
       "      <td>-1.606924</td>\n",
       "      <td>0.000139</td>\n",
       "      <td>6.878738</td>\n",
       "      <td>8.879737</td>\n",
       "    </tr>\n",
       "    <tr>\n",
       "      <th>1</th>\n",
       "      <td>2003-II</td>\n",
       "      <td>1009.8</td>\n",
       "      <td>7249.3</td>\n",
       "      <td>4161.3</td>\n",
       "      <td>2</td>\n",
       "      <td>-1.336288</td>\n",
       "      <td>-1.377853</td>\n",
       "      <td>0.000138</td>\n",
       "      <td>6.917508</td>\n",
       "      <td>8.888660</td>\n",
       "    </tr>\n",
       "    <tr>\n",
       "      <th>2</th>\n",
       "      <td>2003-III</td>\n",
       "      <td>1049.6</td>\n",
       "      <td>7352.9</td>\n",
       "      <td>4190.7</td>\n",
       "      <td>3</td>\n",
       "      <td>-0.740529</td>\n",
       "      <td>-1.009348</td>\n",
       "      <td>0.000136</td>\n",
       "      <td>6.956164</td>\n",
       "      <td>8.902850</td>\n",
       "    </tr>\n",
       "    <tr>\n",
       "      <th>3</th>\n",
       "      <td>2003-IV</td>\n",
       "      <td>1051.4</td>\n",
       "      <td>7394.3</td>\n",
       "      <td>4220.2</td>\n",
       "      <td>4</td>\n",
       "      <td>-0.713585</td>\n",
       "      <td>-0.862089</td>\n",
       "      <td>0.000135</td>\n",
       "      <td>6.957878</td>\n",
       "      <td>8.908465</td>\n",
       "    </tr>\n",
       "    <tr>\n",
       "      <th>4</th>\n",
       "      <td>2004-I</td>\n",
       "      <td>1067.0</td>\n",
       "      <td>7479.8</td>\n",
       "      <td>4268.2</td>\n",
       "      <td>5</td>\n",
       "      <td>-0.480071</td>\n",
       "      <td>-0.557966</td>\n",
       "      <td>0.000134</td>\n",
       "      <td>6.972606</td>\n",
       "      <td>8.919961</td>\n",
       "    </tr>\n",
       "    <tr>\n",
       "      <th>5</th>\n",
       "      <td>2004-II</td>\n",
       "      <td>1071.4</td>\n",
       "      <td>7534.4</td>\n",
       "      <td>4308.4</td>\n",
       "      <td>6</td>\n",
       "      <td>-0.414209</td>\n",
       "      <td>-0.363754</td>\n",
       "      <td>0.000133</td>\n",
       "      <td>6.976721</td>\n",
       "      <td>8.927234</td>\n",
       "    </tr>\n",
       "    <tr>\n",
       "      <th>6</th>\n",
       "      <td>2004-III</td>\n",
       "      <td>1093.9</td>\n",
       "      <td>7607.1</td>\n",
       "      <td>4341.5</td>\n",
       "      <td>7</td>\n",
       "      <td>-0.077410</td>\n",
       "      <td>-0.105160</td>\n",
       "      <td>0.000131</td>\n",
       "      <td>6.997505</td>\n",
       "      <td>8.936837</td>\n",
       "    </tr>\n",
       "    <tr>\n",
       "      <th>7</th>\n",
       "      <td>2004-IV</td>\n",
       "      <td>1110.3</td>\n",
       "      <td>7687.1</td>\n",
       "      <td>4377.4</td>\n",
       "      <td>8</td>\n",
       "      <td>0.168078</td>\n",
       "      <td>0.179400</td>\n",
       "      <td>0.000130</td>\n",
       "      <td>7.012386</td>\n",
       "      <td>8.947299</td>\n",
       "    </tr>\n",
       "    <tr>\n",
       "      <th>8</th>\n",
       "      <td>2005-I</td>\n",
       "      <td>1116.8</td>\n",
       "      <td>7739.4</td>\n",
       "      <td>4395.3</td>\n",
       "      <td>9</td>\n",
       "      <td>0.265376</td>\n",
       "      <td>0.365430</td>\n",
       "      <td>0.000129</td>\n",
       "      <td>7.018223</td>\n",
       "      <td>8.954079</td>\n",
       "    </tr>\n",
       "    <tr>\n",
       "      <th>9</th>\n",
       "      <td>2005-II</td>\n",
       "      <td>1150.8</td>\n",
       "      <td>7819.8</td>\n",
       "      <td>4420.0</td>\n",
       "      <td>10</td>\n",
       "      <td>0.774316</td>\n",
       "      <td>0.651413</td>\n",
       "      <td>0.000128</td>\n",
       "      <td>7.048213</td>\n",
       "      <td>8.964414</td>\n",
       "    </tr>\n",
       "    <tr>\n",
       "      <th>10</th>\n",
       "      <td>2005-III</td>\n",
       "      <td>1175.9</td>\n",
       "      <td>7895.3</td>\n",
       "      <td>4454.5</td>\n",
       "      <td>11</td>\n",
       "      <td>1.150033</td>\n",
       "      <td>0.919966</td>\n",
       "      <td>0.000127</td>\n",
       "      <td>7.069789</td>\n",
       "      <td>8.974023</td>\n",
       "    </tr>\n",
       "    <tr>\n",
       "      <th>11</th>\n",
       "      <td>2005-IV</td>\n",
       "      <td>1137.9</td>\n",
       "      <td>7910.2</td>\n",
       "      <td>4476.7</td>\n",
       "      <td>12</td>\n",
       "      <td>0.581218</td>\n",
       "      <td>0.972965</td>\n",
       "      <td>0.000126</td>\n",
       "      <td>7.036940</td>\n",
       "      <td>8.975908</td>\n",
       "    </tr>\n",
       "    <tr>\n",
       "      <th>12</th>\n",
       "      <td>2006-I</td>\n",
       "      <td>1190.5</td>\n",
       "      <td>8003.8</td>\n",
       "      <td>4494.5</td>\n",
       "      <td>13</td>\n",
       "      <td>1.368578</td>\n",
       "      <td>1.305900</td>\n",
       "      <td>0.000125</td>\n",
       "      <td>7.082129</td>\n",
       "      <td>8.987672</td>\n",
       "    </tr>\n",
       "    <tr>\n",
       "      <th>13</th>\n",
       "      <td>2006-II</td>\n",
       "      <td>1190.3</td>\n",
       "      <td>8055.0</td>\n",
       "      <td>4535.4</td>\n",
       "      <td>14</td>\n",
       "      <td>1.365584</td>\n",
       "      <td>1.488018</td>\n",
       "      <td>0.000124</td>\n",
       "      <td>7.081961</td>\n",
       "      <td>8.994048</td>\n",
       "    </tr>\n",
       "  </tbody>\n",
       "</table>\n",
       "</div>"
      ],
      "text/plain": [
       "   YEAR-QUARTER  EXPDUR   PCEXP  EXPSERVICES  TIME  EXPDUR_STD  PCEXP_STD  \\\n",
       "0       2003-I    971.4  7184.9       4143.3     1   -1.911090  -1.606924   \n",
       "1      2003-II   1009.8  7249.3       4161.3     2   -1.336288  -1.377853   \n",
       "2     2003-III   1049.6  7352.9       4190.7     3   -0.740529  -1.009348   \n",
       "3       2003-IV  1051.4  7394.3       4220.2     4   -0.713585  -0.862089   \n",
       "4       2004-I   1067.0  7479.8       4268.2     5   -0.480071  -0.557966   \n",
       "5      2004-II   1071.4  7534.4       4308.4     6   -0.414209  -0.363754   \n",
       "6     2004-III   1093.9  7607.1       4341.5     7   -0.077410  -0.105160   \n",
       "7       2004-IV  1110.3  7687.1       4377.4     8    0.168078   0.179400   \n",
       "8       2005-I   1116.8  7739.4       4395.3     9    0.265376   0.365430   \n",
       "9      2005-II   1150.8  7819.8       4420.0    10    0.774316   0.651413   \n",
       "10    2005-III   1175.9  7895.3       4454.5    11    1.150033   0.919966   \n",
       "11    2005-IV    1137.9  7910.2       4476.7    12    0.581218   0.972965   \n",
       "12      2006-I   1190.5  8003.8       4494.5    13    1.368578   1.305900   \n",
       "13     2006-II   1190.3  8055.0       4535.4    14    1.365584   1.488018   \n",
       "\n",
       "     1/PCEXP  EXPDUR_LOG  PCEXP_LOG  \n",
       "0   0.000139    6.878738   8.879737  \n",
       "1   0.000138    6.917508   8.888660  \n",
       "2   0.000136    6.956164   8.902850  \n",
       "3   0.000135    6.957878   8.908465  \n",
       "4   0.000134    6.972606   8.919961  \n",
       "5   0.000133    6.976721   8.927234  \n",
       "6   0.000131    6.997505   8.936837  \n",
       "7   0.000130    7.012386   8.947299  \n",
       "8   0.000129    7.018223   8.954079  \n",
       "9   0.000128    7.048213   8.964414  \n",
       "10  0.000127    7.069789   8.974023  \n",
       "11  0.000126    7.036940   8.975908  \n",
       "12  0.000125    7.082129   8.987672  \n",
       "13  0.000124    7.081961   8.994048  "
      ]
     },
     "execution_count": 5,
     "metadata": {},
     "output_type": "execute_result"
    }
   ],
   "source": [
    "# Selecionar as variáveis de interesse\n",
    "df = df[['YEAR-QUARTER','EXPDUR', 'PCEXP', 'EXPSERVICES']]\n",
    "\n",
    "# Adicionar var tempo\n",
    "df['TIME'] = range(1,15,1)\n",
    "\n",
    "# Adicionar EXPDUR e PCEXP padronizados\n",
    "df['EXPDUR_STD'] = df['EXPDUR'].apply(lambda x: (x - df['EXPDUR'].mean())/df['EXPDUR'].std())\n",
    "df['PCEXP_STD'] = df['PCEXP'].apply(lambda x: (x - df['PCEXP'].mean())/df['PCEXP'].std())\n",
    "df['1/PCEXP'] = df['PCEXP'].apply(lambda x: (1/x))\n",
    "\n",
    "# Adicionar EXPDUR e PCEXP log\n",
    "df['EXPDUR_LOG'] = df['EXPDUR'].apply(lambda x: (np.log(x)))\n",
    "df['PCEXP_LOG'] = df['PCEXP'].apply(lambda x: (np.log(x)))\n",
    "\n",
    "# View \n",
    "df"
   ]
  },
  {
   "cell_type": "markdown",
   "id": "aabeedf1",
   "metadata": {},
   "source": [
    "___"
   ]
  },
  {
   "cell_type": "markdown",
   "id": "7b32352c",
   "metadata": {},
   "source": [
    "# Transformações logarítmicas, recíproca e padronização\n",
    "\n",
    "Vamos regredir os gastos com bens duráveis (EXPDUR) contra as despesas totais com consumo pessoal (PCEXP), aplicar as transformações e interpretar cada resutado."
   ]
  },
  {
   "cell_type": "markdown",
   "id": "f33c7749",
   "metadata": {},
   "source": [
    "## Trasformações logarítmicas"
   ]
  },
  {
   "cell_type": "markdown",
   "id": "760a8f08",
   "metadata": {},
   "source": [
    "A transformação log gera alguns benefícios de grande interesse como a linearização de  modelos não lineares e a obtenção da elasticidade ou semi-elasticidade entre das variáveis.\n",
    "\n",
    "**Tomemos o modelo não linear como exemplo:**\n",
    "\n",
    "### $ Y_i = \\beta_{0}X_i^{\\beta_1}e^{u_i} $\n",
    "\n",
    "Aplicando log temos:\n",
    "\n",
    "### $ LnY_i = Ln\\beta_{0} + \\beta_1LnX_i + u_i $\n",
    "### $ LnY_i = \\alpha + \\beta_1LnX_i + u_i $\n",
    "\n",
    "O modelo agora é linear e a relação entre X e y é a elasticidade de y em relação X. Dada uma variação percentual em X, qual seria a variação percentual observada em y? Estamos falando da variação percentual das variáveis e não mais da variação nominal.\n",
    "\n",
    "A combinação de regressor na escala natural e regressando na escala logarítmica e vice-versa, gera modelos interessantes por demonstrar a semi-elasticidades entre as variáveis, ou seja, qual o efeito nominal sobre uma variável dada uma varição percentual em outra variável."
   ]
  },
  {
   "cell_type": "markdown",
   "id": "1ec25640",
   "metadata": {},
   "source": [
    "### Modelo LinLin"
   ]
  },
  {
   "cell_type": "markdown",
   "id": "61c0f227",
   "metadata": {},
   "source": [
    "Tanto as variáveis independentes como a dependente estão no seu formato/escala original."
   ]
  },
  {
   "cell_type": "code",
   "execution_count": 6,
   "id": "97bf778f",
   "metadata": {},
   "outputs": [
    {
     "data": {
      "text/plain": [
       "const   -684.302854\n",
       "PCEXP      0.233528\n",
       "dtype: float64"
      ]
     },
     "execution_count": 6,
     "metadata": {},
     "output_type": "execute_result"
    }
   ],
   "source": [
    "# Definir X e y\n",
    "X = df['PCEXP']\n",
    "y = df['EXPDUR']\n",
    "\n",
    "# Model and fit\n",
    "X_cte = sm.add_constant(X, has_constant = 'add')\n",
    "lin_reg = sm.OLS(y, X_cte).fit()\n",
    "\n",
    "# Parametros\n",
    "lin_reg.params"
   ]
  },
  {
   "cell_type": "markdown",
   "id": "0e856c9d",
   "metadata": {},
   "source": [
    "> ### Interpretação"
   ]
  },
  {
   "cell_type": "markdown",
   "id": "b7d70af5",
   "metadata": {},
   "source": [
    "Como o parâmetro da variável PCEXP sugere, a variação de 1 unidade na variável PCEXP causa uma variação de 0.2335 unidade na variável EXPDUR. Ou seja, para cada mil dólares gastos a mais no consumo total (PCEXP), espera-se em média um aumento de $233,5 com gastos em bens duráveis (EXPDUR). "
   ]
  },
  {
   "cell_type": "markdown",
   "id": "955fed9c",
   "metadata": {},
   "source": [
    "### Modelo LinLog"
   ]
  },
  {
   "cell_type": "markdown",
   "id": "c05a50a3",
   "metadata": {},
   "source": [
    "A variável dependente (y) está no seu formato/escala original e a variável independente será transformada (Ln(X))."
   ]
  },
  {
   "cell_type": "code",
   "execution_count": 7,
   "id": "692379e8",
   "metadata": {},
   "outputs": [
    {
     "data": {
      "text/plain": [
       "const   -14818.334419\n",
       "PCEXP     1780.453541\n",
       "dtype: float64"
      ]
     },
     "execution_count": 7,
     "metadata": {},
     "output_type": "execute_result"
    }
   ],
   "source": [
    "# Definir X e y\n",
    "X = np.log(df['PCEXP'])\n",
    "y = df['EXPDUR']\n",
    "\n",
    "# Model and fit\n",
    "X_cte = sm.add_constant(X, has_constant = 'add')\n",
    "lin_reg = sm.OLS(y, X_cte).fit()\n",
    "\n",
    "# Parametros\n",
    "lin_reg.params"
   ]
  },
  {
   "cell_type": "markdown",
   "id": "e4b5587c",
   "metadata": {},
   "source": [
    "> ### Interpretação"
   ]
  },
  {
   "cell_type": "markdown",
   "id": "8bdce9cf",
   "metadata": {},
   "source": [
    "O modelo LinLog mede a variação da variável y na escala original dos dados dada uma variação % em X.\n",
    "No nosso modelo, espera-se que ocorra em média o aumento de $1.780 nos gastos com bens duráveis (EXPDUR) para cada 1% de aumento nos gastos totais com consumo (PCEXP)."
   ]
  },
  {
   "cell_type": "markdown",
   "id": "1fa26f6f",
   "metadata": {},
   "source": [
    "### Modelo LogLin"
   ]
  },
  {
   "cell_type": "markdown",
   "id": "64169f81",
   "metadata": {},
   "source": [
    "A variável dependente será transformada (Ln(y)) e a variável independente permanece no seu formato/escala original."
   ]
  },
  {
   "cell_type": "code",
   "execution_count": 8,
   "id": "88becb5b",
   "metadata": {},
   "outputs": [
    {
     "data": {
      "text/plain": [
       "const    5.364949\n",
       "PCEXP    0.000214\n",
       "dtype: float64"
      ]
     },
     "execution_count": 8,
     "metadata": {},
     "output_type": "execute_result"
    }
   ],
   "source": [
    "# Definir X e y\n",
    "X = df['PCEXP']\n",
    "y = np.log(df['EXPDUR'])\n",
    "\n",
    "# Model and fit\n",
    "X_cte = sm.add_constant(X, has_constant = 'add')\n",
    "lin_reg = sm.OLS(y, X_cte).fit()\n",
    "\n",
    "# Parametros\n",
    "lin_reg.params"
   ]
  },
  {
   "cell_type": "markdown",
   "id": "190ad0ec",
   "metadata": {},
   "source": [
    "> ### Interpretação"
   ]
  },
  {
   "cell_type": "markdown",
   "id": "a4bc225c",
   "metadata": {},
   "source": [
    "Demonstra a variação de % na variável y dada uma variação nominal na variável X.\n",
    "\n",
    "Trazendo para o nosso modelo, temos que para cada dólar gasto a mais com gastos totais com consumo (PCEXP), podemos esperar em média um aumento de 0.0214% nos gastos com bens duráveis (EXPDUR)."
   ]
  },
  {
   "cell_type": "markdown",
   "id": "7fcf8d39",
   "metadata": {},
   "source": [
    "### Modelo LogLog"
   ]
  },
  {
   "cell_type": "markdown",
   "id": "64963659",
   "metadata": {},
   "source": [
    "Tanto a variável dependente (EXPDUR) quanto a variável independente (PCEXP) estão transformadas."
   ]
  },
  {
   "cell_type": "code",
   "execution_count": 9,
   "id": "433b2c50",
   "metadata": {},
   "outputs": [
    {
     "data": {
      "text/plain": [
       "const   -7.604271\n",
       "PCEXP    1.633626\n",
       "dtype: float64"
      ]
     },
     "execution_count": 9,
     "metadata": {},
     "output_type": "execute_result"
    }
   ],
   "source": [
    "# Definir X e y\n",
    "X = np.log(df['PCEXP'])\n",
    "y = np.log(df['EXPDUR'])\n",
    "\n",
    "# Modelo\n",
    "X_cte = sm.add_constant(X, has_constant = 'add')\n",
    "lin_reg = sm.OLS(y, X_cte).fit()\n",
    "\n",
    "# Parametros\n",
    "lin_reg.params"
   ]
  },
  {
   "cell_type": "markdown",
   "id": "3ad0125a",
   "metadata": {},
   "source": [
    "> ### Interpretação"
   ]
  },
  {
   "cell_type": "markdown",
   "id": "7080005c",
   "metadata": {},
   "source": [
    "Demonstra a variação de % na variável y dada uma variação % na variável X.\n",
    "\n",
    "O nosso modelo sugere que para um aumento de 1% nos gastos totais com consumo (PCEXP), espera-se em média um aumento de 1.63% nos gastos com bens duráveis (EXPDUR)."
   ]
  },
  {
   "cell_type": "markdown",
   "id": "7cb19cb5",
   "metadata": {},
   "source": [
    "## Variáveis LinLin Recíproco $1/X$"
   ]
  },
  {
   "cell_type": "markdown",
   "id": "3593c27a",
   "metadata": {},
   "source": [
    "Para discutir o caso recíproco e mantermos o meso conjunto de dados estamos forçando a hipótese de uma relação inversa entre os gastos totais e gastos com bens duráveis. Em outro material discutimos esse modelo explorando dados de desemprego e inflação por meio da curva de Phillips."
   ]
  },
  {
   "cell_type": "code",
   "execution_count": 10,
   "id": "50ecf77a",
   "metadata": {},
   "outputs": [
    {
     "name": "stdout",
     "output_type": "stream",
     "text": [
      "Const  2876.68\n",
      "1/PCEXP  -13557807.68\n"
     ]
    }
   ],
   "source": [
    "# Definir X e y\n",
    "X = df['1/PCEXP']\n",
    "y = df['EXPDUR']\n",
    "\n",
    "# Model and fit\n",
    "X_cte = sm.add_constant(X, has_constant = 'add')\n",
    "lin_reg = sm.OLS(y, X_cte).fit()\n",
    "\n",
    "# Parametros\n",
    "params = lin_reg.params.apply(lambda x: float(x))\n",
    "print('Const ',params[0].round(2))\n",
    "print('1/PCEXP ',params[1].round(2))"
   ]
  },
  {
   "cell_type": "markdown",
   "id": "f6476d88",
   "metadata": {},
   "source": [
    "> ### Interpretação\n",
    "\n",
    "Embora o modelo recíproco seja não linear em X, ele continua sendo linear nos parâmetros, portanto não há conflito com  o pressuposto de GaussMarkov de linearidade do modelo.\n",
    "\n",
    "O parâmetro de B1 -13557807.68, sendo um valor negativo, indica que o valor de Y cresce a taxas decrescentes.\n",
    "\n",
    "A constante tem uma aspacto importante no modelo recíproco por representar o valor máximo que a variável dependente pode assumir. Quanto X cresce indefinidamente, Y aproxima-se da constante do modelo. \n",
    "\n",
    "Não dífícil deduzir essa relação. Como estamos olhando para o inverso da variável X, ou seja 1/X, na media que X cresce, 1/X diminui. Se X tende ao infinito a relação 1/X tende a zero.\n",
    "\n",
    "### $ Y= \\beta_{0} +  \\beta_{1} \\frac{1}{X}  $\n",
    "\n",
    "### $ \\beta_{1} \\frac{1}{X} = \\lim_{x \\to 0} \\frac{1}{X} = 0$\n",
    "\n",
    "### $ Y= \\beta_{0} +  0  $\n",
    "### $ Y= \\beta_{0}$\n",
    "\n",
    "Em resumo temos um modelo onde Y cresce a taxas decrescentes na medida em que X aumenta e tende ao valor 2876.68 na medida em que X cresce indefinidamente."
   ]
  },
  {
   "cell_type": "markdown",
   "id": "1558b72c",
   "metadata": {},
   "source": [
    "## Variáveis padronizadas"
   ]
  },
  {
   "cell_type": "code",
   "execution_count": 11,
   "id": "39b9853f",
   "metadata": {},
   "outputs": [
    {
     "data": {
      "text/plain": [
       "const        0.0000\n",
       "PCEXP_STD    0.9827\n",
       "dtype: float64"
      ]
     },
     "execution_count": 11,
     "metadata": {},
     "output_type": "execute_result"
    }
   ],
   "source": [
    "# Definir X e y\n",
    "X = df['PCEXP_STD']\n",
    "y = df['EXPDUR_STD']\n",
    "\n",
    "# Model and fit\n",
    "X_cte = sm.add_constant(X, has_constant = 'add')\n",
    "lin_reg = sm.OLS(y, X_cte).fit()\n",
    "\n",
    "# Parametros\n",
    "lin_reg.params.round(4)"
   ]
  },
  {
   "cell_type": "markdown",
   "id": "36765120",
   "metadata": {},
   "source": [
    "> ### Interpretação\n",
    "\n",
    "A variação nesse caso é medida em termos de desvio-padrão. Portanto, se o regressor aumenta em média 1 desvio-padrão, o regressando irá aumentar $\\beta_{1}$ unidades de desvio padrão.\n",
    "\n",
    "A constante de uma regressão linear com dados padronizados sempre será zero. Lembre que $ \\hat{\\beta}_{0} = Y_{mean} + \\hat{\\beta}_{1}X_{mean} $. Lembre ainda que ao padronizarmos uma variável, sua média será igual a 0 e o desvio-padrão igual a 1. Como a variável Y está padronizada, a sua média é zero, logo, $ \\hat{\\beta}_{0} = 0 + \\hat{\\beta}_{1}X_{mean} $.\n",
    "\n",
    "Trazendo para o nosso modelo, obervamos a constante com valor zero. O parâmetro da variável PCEXP_STD foi estimado em 0.9827. Isso significa que quando PCEXP_STD variar em média 1 desvio-padrão, a nossa variável target (EXPDUR_STD) irá variar 0.9827 unidade de desvio-padrão.\n",
    "\n",
    "Uma das vantagens da padronização dos regressores é que colocamos todos na mesma base, portanto, podemos compará-los diretamente. Assim, podemos usar o valor dos parâmetros estimados como medida de força relativa dos vários regressores, ou seja, ao compararmos dois regressores com valores distintos, o que tiver maior valor tem maior poder explicativo.  "
   ]
  },
  {
   "cell_type": "markdown",
   "id": "ed81c4b4",
   "metadata": {},
   "source": [
    "___"
   ]
  },
  {
   "cell_type": "markdown",
   "id": "e7d406b1",
   "metadata": {},
   "source": [
    "# Taxa de crescimento dos gastos com serviço"
   ]
  },
  {
   "cell_type": "markdown",
   "id": "9176777d",
   "metadata": {},
   "source": [
    "O objetivo agora é econtrar a taxa de crescimento dos gastos com serviço por trimestre de 2003 à 2006. \n",
    "\n",
    "O processo é simples. Aplicamos o Log à conhecida fóruma de juros compostos e pronto. Com pequenos ajustes à equação obtida teremos claramente um modelo de regressão linear simples."
   ]
  },
  {
   "cell_type": "markdown",
   "id": "b7333ef7",
   "metadata": {},
   "source": [
    "Modelando a taxa de crescimento:\n",
    "\n",
    "**Juros compostos**\n",
    "### $ Y_t = Y_{0}(1 + i)^{t} $\n",
    "\n",
    "\n",
    "**Aplicando ln aos Juros compostos**\n",
    "### $ LnY_t = LnY_{0} + tLn(1 + i) $\n",
    "\n",
    "#### $ \\beta{0} =  LnY_{0}  $\n",
    "#### $ \\beta{1} =  Ln(1 + i)  $\n",
    "\n",
    "\n",
    "**Substituindo e incluindo  termo de erro:**\n",
    "## $ LnY_t = \\beta_{0} +  \\beta_{1}t + u{i}  $"
   ]
  },
  {
   "cell_type": "markdown",
   "id": "aa8ba923",
   "metadata": {},
   "source": [
    "Fica evidente que temos um modelo de regressão linear. Portanto, ao regredir o Log dos gastos contra o tempo, $\\beta_1$ representará a taxa de crescimento média dos gastos ao longo do período observado. Já $\\beta_0$ será o gasto do período anterior ao primeiro período observado, ou seja, $\\beta_0$ será o gasto no pertíodo $t_0$."
   ]
  },
  {
   "cell_type": "code",
   "execution_count": 12,
   "id": "bb6f3532",
   "metadata": {},
   "outputs": [
    {
     "data": {
      "text/html": [
       "<table class=\"simpletable\">\n",
       "<caption>OLS Regression Results</caption>\n",
       "<tr>\n",
       "  <th>Dep. Variable:</th>       <td>EXPSERVICES</td>   <th>  R-squared:         </th> <td>   0.991</td>\n",
       "</tr>\n",
       "<tr>\n",
       "  <th>Model:</th>                   <td>OLS</td>       <th>  Adj. R-squared:    </th> <td>   0.990</td>\n",
       "</tr>\n",
       "<tr>\n",
       "  <th>Method:</th>             <td>Least Squares</td>  <th>  F-statistic:       </th> <td>   1273.</td>\n",
       "</tr>\n",
       "<tr>\n",
       "  <th>Date:</th>             <td>Fri, 02 Sep 2022</td> <th>  Prob (F-statistic):</th> <td>1.50e-13</td>\n",
       "</tr>\n",
       "<tr>\n",
       "  <th>Time:</th>                 <td>16:56:18</td>     <th>  Log-Likelihood:    </th> <td>  62.504</td>\n",
       "</tr>\n",
       "<tr>\n",
       "  <th>No. Observations:</th>      <td>    14</td>      <th>  AIC:               </th> <td>  -121.0</td>\n",
       "</tr>\n",
       "<tr>\n",
       "  <th>Df Residuals:</th>          <td>    12</td>      <th>  BIC:               </th> <td>  -119.7</td>\n",
       "</tr>\n",
       "<tr>\n",
       "  <th>Df Model:</th>              <td>     1</td>      <th>                     </th>     <td> </td>   \n",
       "</tr>\n",
       "<tr>\n",
       "  <th>Covariance Type:</th>      <td>nonrobust</td>    <th>                     </th>     <td> </td>   \n",
       "</tr>\n",
       "</table>\n",
       "<table class=\"simpletable\">\n",
       "<tr>\n",
       "    <td></td>       <th>coef</th>     <th>std err</th>      <th>t</th>      <th>P>|t|</th>  <th>[0.025</th>    <th>0.975]</th>  \n",
       "</tr>\n",
       "<tr>\n",
       "  <th>const</th> <td>    8.3223</td> <td>    0.002</td> <td> 4900.714</td> <td> 0.000</td> <td>    8.319</td> <td>    8.326</td>\n",
       "</tr>\n",
       "<tr>\n",
       "  <th>TIME</th>  <td>    0.0071</td> <td>    0.000</td> <td>   35.683</td> <td> 0.000</td> <td>    0.007</td> <td>    0.008</td>\n",
       "</tr>\n",
       "</table>\n",
       "<table class=\"simpletable\">\n",
       "<tr>\n",
       "  <th>Omnibus:</th>       <td> 1.355</td> <th>  Durbin-Watson:     </th> <td>   0.573</td>\n",
       "</tr>\n",
       "<tr>\n",
       "  <th>Prob(Omnibus):</th> <td> 0.508</td> <th>  Jarque-Bera (JB):  </th> <td>   0.838</td>\n",
       "</tr>\n",
       "<tr>\n",
       "  <th>Skew:</th>          <td> 0.195</td> <th>  Prob(JB):          </th> <td>   0.658</td>\n",
       "</tr>\n",
       "<tr>\n",
       "  <th>Kurtosis:</th>      <td> 1.867</td> <th>  Cond. No.          </th> <td>    18.2</td>\n",
       "</tr>\n",
       "</table><br/><br/>Notes:<br/>[1] Standard Errors assume that the covariance matrix of the errors is correctly specified."
      ],
      "text/plain": [
       "<class 'statsmodels.iolib.summary.Summary'>\n",
       "\"\"\"\n",
       "                            OLS Regression Results                            \n",
       "==============================================================================\n",
       "Dep. Variable:            EXPSERVICES   R-squared:                       0.991\n",
       "Model:                            OLS   Adj. R-squared:                  0.990\n",
       "Method:                 Least Squares   F-statistic:                     1273.\n",
       "Date:                Fri, 02 Sep 2022   Prob (F-statistic):           1.50e-13\n",
       "Time:                        16:56:18   Log-Likelihood:                 62.504\n",
       "No. Observations:                  14   AIC:                            -121.0\n",
       "Df Residuals:                      12   BIC:                            -119.7\n",
       "Df Model:                           1                                         \n",
       "Covariance Type:            nonrobust                                         \n",
       "==============================================================================\n",
       "                 coef    std err          t      P>|t|      [0.025      0.975]\n",
       "------------------------------------------------------------------------------\n",
       "const          8.3223      0.002   4900.714      0.000       8.319       8.326\n",
       "TIME           0.0071      0.000     35.683      0.000       0.007       0.008\n",
       "==============================================================================\n",
       "Omnibus:                        1.355   Durbin-Watson:                   0.573\n",
       "Prob(Omnibus):                  0.508   Jarque-Bera (JB):                0.838\n",
       "Skew:                           0.195   Prob(JB):                        0.658\n",
       "Kurtosis:                       1.867   Cond. No.                         18.2\n",
       "==============================================================================\n",
       "\n",
       "Notes:\n",
       "[1] Standard Errors assume that the covariance matrix of the errors is correctly specified.\n",
       "\"\"\""
      ]
     },
     "execution_count": 12,
     "metadata": {},
     "output_type": "execute_result"
    }
   ],
   "source": [
    "# Definir X e y\n",
    "X = (df['TIME'])\n",
    "y = np.log(df['EXPSERVICES'])\n",
    "\n",
    "# Modelo\n",
    "X_cte = sm.add_constant(X, has_constant = 'add')\n",
    "lin_reg = sm.OLS(y, X_cte).fit()\n",
    "\n",
    "# Parametros\n",
    "lin_reg.summary()"
   ]
  },
  {
   "cell_type": "code",
   "execution_count": 13,
   "id": "1ad681c3",
   "metadata": {},
   "outputs": [],
   "source": [
    "# Algumas transformações\n",
    "\n",
    "# Obter a taxa de crescimento composta\n",
    "tx_comp = np.exp(lin_reg.params[1]) - 1\n",
    "\n",
    "# Obter a taxa de crescimento anual\n",
    "tx_anual = (((1 + tx_comp)**4)-1)\n",
    "\n",
    "# Obter o valor em t0\n",
    "y0 = np.exp(lin_reg.params[0])"
   ]
  },
  {
   "cell_type": "code",
   "execution_count": 14,
   "id": "7a987291",
   "metadata": {},
   "outputs": [
    {
     "name": "stdout",
     "output_type": "stream",
     "text": [
      "Taxa Instantânea: 0.007117\n",
      "Taxa composta: 0.007142\n",
      "Taxa anual: 0.028875\n",
      "Gasto em t0: 4114.58\n"
     ]
    }
   ],
   "source": [
    "# View\n",
    "print('Taxa Instantânea:', lin_reg.params[1].round(6))\n",
    "print('Taxa composta:', tx_comp.round(6))\n",
    "print('Taxa anual:', tx_anual.round(6))\n",
    "print('Gasto em t0:', y0.round(2))"
   ]
  },
  {
   "cell_type": "markdown",
   "id": "9286b4d8",
   "metadata": {},
   "source": [
    "> ## Interpretação"
   ]
  },
  {
   "cell_type": "markdown",
   "id": "8aec59f8",
   "metadata": {},
   "source": [
    "O parâmetro estimado de TIME 0.7117% representa a taxa de crescimento instantânea trimestral dos gastos com serviços. Essa é ataxa de crescimento em um ponto do tempo e não a taxa de crescimento ao longo do tempo. \n",
    "\n",
    "A taxa de crescimento ao longo do tempo é a taxa de crescimento composta e podemos encontrá-la extraindo o anti-logarítimo da taxa de crescimento instantânea, como fizemos  em *tx_comp = np.exp(lin_reg.params[1]) - 1*. Assim obtemos uma taxa de 0.7142%, equivalente a uma taxa de crescimento anual de 2.88%.\n",
    "\n",
    "O intercepto da regressão representa os gastos em t0, ou seja, os gastos ao final do último trimestre de 2002."
   ]
  },
  {
   "cell_type": "markdown",
   "id": "5ca49b63",
   "metadata": {},
   "source": [
    "Neste último modelo trouxemos o sumário completo do modelo para chamar a atençao para o fato de que o parâmetro estimado está contido em um intervalo de confiança a um determinado nível confiança. Trazendo isso para a interpretação do intercepto, podemos extrair o anti-logarítimo do intervalo de confiança e observar a faixa de valores que o valor dos gastos em t0 pode assumir. "
   ]
  },
  {
   "cell_type": "code",
   "execution_count": 15,
   "id": "430a7acf",
   "metadata": {},
   "outputs": [
    {
     "name": "stdout",
     "output_type": "stream",
     "text": [
      "Lim inferior: 4099.38\n",
      "Lim superior: 4129.83\n"
     ]
    }
   ],
   "source": [
    "# Extrair o intervalo de confiança do modelo e tomar o anti-logarítimo para obter o valor na escala original ($)\n",
    "conf_Inf = np.exp(lin_reg.conf_int()[0:1].iloc[ : , 0].sum()).round(2)\n",
    "conf_Sup = np.exp(lin_reg.conf_int()[0:1].iloc[ : , 1].sum()).round(2)\n",
    "\n",
    "print('Lim inferior:', conf_Inf)\n",
    "print('Lim superior:', conf_Sup)"
   ]
  },
  {
   "cell_type": "markdown",
   "id": "2df038cf",
   "metadata": {},
   "source": [
    "Portanto, o valor dos gastos ao fim do último trimestre de 2022, estatisticamente a um nível de confiança de 5%, é um valor entre 4099.38 e 4129.83. \n",
    "\n",
    "A interpretação com intervalos de confiança aplica-se a qualquer modelo que estimamos aqui."
   ]
  },
  {
   "cell_type": "markdown",
   "id": "4651615a",
   "metadata": {},
   "source": [
    "## Modelo de tendência linear"
   ]
  },
  {
   "cell_type": "markdown",
   "id": "0c69e6c4",
   "metadata": {},
   "source": [
    "Se regredirmos o valor em dólares dos gastos com serviço contra o tempo, teremos um modelo de tendência linear. Estamos falando de um modelo LinLin. "
   ]
  },
  {
   "cell_type": "code",
   "execution_count": 16,
   "id": "7932fc7f",
   "metadata": {},
   "outputs": [
    {
     "data": {
      "text/plain": [
       "const    4110.66\n",
       "TIME       30.84\n",
       "dtype: float64"
      ]
     },
     "execution_count": 16,
     "metadata": {},
     "output_type": "execute_result"
    }
   ],
   "source": [
    "# Set X and y\n",
    "X = df['TIME']\n",
    "y = df['EXPSERVICES']\n",
    "\n",
    "# Model and fit\n",
    "X_cte = sm.add_constant(X, has_constant = 'add')\n",
    "lin_reg = sm.OLS(y, X_cte).fit()\n",
    "\n",
    "# Parameters\n",
    "lin_reg.params.round(2)"
   ]
  },
  {
   "cell_type": "code",
   "execution_count": 17,
   "id": "d9d8783a",
   "metadata": {},
   "outputs": [
    {
     "name": "stdout",
     "output_type": "stream",
     "text": [
      "Lim inferior: 4096.02\n",
      "Lim superior: 4125.29\n",
      "Constante: 4110.66\n"
     ]
    }
   ],
   "source": [
    "# Extrair o intervalo de confiança do modelo \n",
    "conf_Inf = lin_reg.conf_int()[0:1].iloc[ : , 0].sum().round(2)\n",
    "conf_Sup = lin_reg.conf_int()[0:1].iloc[ : , 1].sum().round(2)\n",
    "\n",
    "print('Lim inferior:', conf_Inf)\n",
    "print('Lim superior:', conf_Sup)\n",
    "\n",
    "# O valor do parâmetro estimado obviamente é o valor médio do intevalo de confiança\n",
    "print('Constante:' , round((conf_Inf+conf_Sup)/2,2))"
   ]
  },
  {
   "cell_type": "markdown",
   "id": "054c1861",
   "metadata": {},
   "source": [
    "> ## Interpretação"
   ]
  },
  {
   "cell_type": "markdown",
   "id": "509e703f",
   "metadata": {},
   "source": [
    "O parâmetro de TIME 30.84 está dizendo que os gastos com serviços aumentam em média a uma taxa absoluta de $30.84 bilhões por trimestre. O intercepto traz o valor dos gastos no fim do último trimeste de 2022.\n",
    "\n",
    "Como utilizamos os dados na escala original, nenhuma tranformação foi necessária para obter os resultados. Comparando o modelo da taxa de crescimento com o modelo de tendência linear, vale destacar ainda quão próximos são os valores obtidos ao fim do último trimestre de 2002, tanto do parâmetro em si quanto os intervalos de confiança. "
   ]
  },
  {
   "cell_type": "markdown",
   "id": "0e333cc1",
   "metadata": {},
   "source": [
    "___"
   ]
  }
 ],
 "metadata": {
  "kernelspec": {
   "display_name": "Python 3 (ipykernel)",
   "language": "python",
   "name": "python3"
  },
  "language_info": {
   "codemirror_mode": {
    "name": "ipython",
    "version": 3
   },
   "file_extension": ".py",
   "mimetype": "text/x-python",
   "name": "python",
   "nbconvert_exporter": "python",
   "pygments_lexer": "ipython3",
   "version": "3.8.8"
  }
 },
 "nbformat": 4,
 "nbformat_minor": 5
}
