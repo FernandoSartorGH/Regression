{
 "cells": [
  {
   "cell_type": "markdown",
   "id": "cc2eba3a",
   "metadata": {},
   "source": [
    "### "
   ]
  },
  {
   "cell_type": "markdown",
   "id": "610bbe80",
   "metadata": {},
   "source": [
    "# <center> Interpretação de Variáveis Dummies em Modelos de Regressão Linear"
   ]
  },
  {
   "cell_type": "markdown",
   "id": "c890c6d5",
   "metadata": {},
   "source": [
    "___"
   ]
  },
  {
   "cell_type": "markdown",
   "id": "b130cad6",
   "metadata": {},
   "source": [
    "## Objetivo"
   ]
  },
  {
   "cell_type": "markdown",
   "id": "d490f491",
   "metadata": {},
   "source": [
    "Este material tem três objetivos principais. Primeiro irá demonstrar como interpretar os parâmetros de variáveis dummies (categóricas) estimados pelo modelo de regresão linear, segundo fazer uma comparação entre os modelos estimados pelos pacotes statsmodels e sklearn com linguagem python e o pacote caret com linguagem R e finalmente demonstrar a interpretação de modelos utilizando tanto variáveis dummies quanto numéricas como preditores.\n",
    "\n",
    "Dada as particularidades da interpretação do modelo de regressão linear utilizando variáveis dummies, é importante estar atento a maneira como os pacotes abordam a estimação dos parâmetros, principalmente do intercepto, visto que a presença ou ausência deste altera a interpreção dos parâmetros do modelo.\n",
    "\n",
    "Não estamos propondo uma interpretação extaustiva utilizando outras estatíticas geradas pelo modelo como p-value, teste F ou outros testes, vamos tratar apenas das variáveis dummies."
   ]
  },
  {
   "cell_type": "markdown",
   "id": "77623177",
   "metadata": {},
   "source": [
    "## Descrição das variáveis"
   ]
  },
  {
   "cell_type": "markdown",
   "id": "0484ea7b",
   "metadata": {},
   "source": [
    "O exemplo abordado consta no capítulo 9 do livro do Livro Econometria Básica de Gujarati e Porter. Os dados representam os salários médios anuais em dólares de professores de escolas públicas dos EUA no ano de 2005 e estão dividos em 3 regiões: Nordeste/Centro Oeste, Sul e Oeste. \n",
    "\n",
    "O dataset apresenta 51 observações e 5 variáveis, sendo duas variáveis numéricas e as demais categóricas e dispensa tratamento.\n",
    "\n",
    "Variáveis:\n",
    "- Estate: Representa o estado\n",
    "- Salary: Representa o salário médio dos professores\n",
    "- Spending: Representa os gastos com escolas públicas por aluno\n",
    "- D2:\n",
    "    * 1 - Estado pertence a região Nordeste ou Norte Central\n",
    "    * 0 - Estado NÂO pertence a região Nordeste ou Norte Central\n",
    "- D3:\n",
    "    * 1 - Estado pertence a região Sul\n",
    "    * 0 - Estado NÃO pertence a região Sul"
   ]
  },
  {
   "cell_type": "markdown",
   "id": "5507b07c",
   "metadata": {},
   "source": [
    "## Workflow"
   ]
  },
  {
   "cell_type": "markdown",
   "id": "b7c7b898",
   "metadata": {},
   "source": [
    "* Importação dos pacotes e dados\n",
    "* EDA\n",
    "* Parte 1 - Estimação e interpretação dos modelos utilizando apenas variáveis categóricas como estimadores.\n",
    "    * Modelo com intercepto    \n",
    "    * Modelo sem intercepto   \n",
    "* Parte 2 - Comparação dos pacotes \n",
    "    * Comparação dos modelos estimados pelos pacotes statsmodels, sklearn em linguagem python e caret na linguagem R.\n",
    "* Parte 3 - Estimação e interpretação dos modelos utilizando tanto variáveis categóricas quanto numéricas como estimadores."
   ]
  },
  {
   "cell_type": "markdown",
   "id": "e094d22f",
   "metadata": {},
   "source": [
    "___"
   ]
  },
  {
   "cell_type": "markdown",
   "id": "383166fa",
   "metadata": {},
   "source": [
    "# Pacotes e dados"
   ]
  },
  {
   "cell_type": "code",
   "execution_count": 1,
   "id": "72c0e53f",
   "metadata": {},
   "outputs": [],
   "source": [
    "# Importar pacotes\n",
    "import warnings\n",
    "warnings.filterwarnings('ignore')\n",
    "\n",
    "import numpy as np\n",
    "import pandas as pd\n",
    "import statsmodels.api as sm\n",
    "\n",
    "import seaborn as sns\n",
    "import matplotlib.pyplot as plt\n",
    "%matplotlib inline"
   ]
  },
  {
   "cell_type": "code",
   "execution_count": 2,
   "id": "c7072c86",
   "metadata": {},
   "outputs": [],
   "source": [
    "# Importar dados\n",
    "dados = pd.read_excel('dados/Damodar_Dataset/Table 9_1.xls', skiprows = 3)\n",
    "dataframe = dados.copy()"
   ]
  },
  {
   "cell_type": "code",
   "execution_count": 3,
   "id": "61959d6d",
   "metadata": {},
   "outputs": [
    {
     "data": {
      "text/html": [
       "<div>\n",
       "<style scoped>\n",
       "    .dataframe tbody tr th:only-of-type {\n",
       "        vertical-align: middle;\n",
       "    }\n",
       "\n",
       "    .dataframe tbody tr th {\n",
       "        vertical-align: top;\n",
       "    }\n",
       "\n",
       "    .dataframe thead th {\n",
       "        text-align: right;\n",
       "    }\n",
       "</style>\n",
       "<table border=\"1\" class=\"dataframe\">\n",
       "  <thead>\n",
       "    <tr style=\"text-align: right;\">\n",
       "      <th></th>\n",
       "      <th>State</th>\n",
       "      <th>Salary</th>\n",
       "      <th>Spending</th>\n",
       "      <th>D2</th>\n",
       "      <th>D3</th>\n",
       "    </tr>\n",
       "  </thead>\n",
       "  <tbody>\n",
       "    <tr>\n",
       "      <th>0</th>\n",
       "      <td>Connecticut</td>\n",
       "      <td>60822</td>\n",
       "      <td>12436</td>\n",
       "      <td>1</td>\n",
       "      <td>0</td>\n",
       "    </tr>\n",
       "    <tr>\n",
       "      <th>1</th>\n",
       "      <td>Illinois</td>\n",
       "      <td>58246</td>\n",
       "      <td>9275</td>\n",
       "      <td>1</td>\n",
       "      <td>0</td>\n",
       "    </tr>\n",
       "    <tr>\n",
       "      <th>2</th>\n",
       "      <td>Indiana</td>\n",
       "      <td>47831</td>\n",
       "      <td>8935</td>\n",
       "      <td>1</td>\n",
       "      <td>0</td>\n",
       "    </tr>\n",
       "    <tr>\n",
       "      <th>3</th>\n",
       "      <td>Iowa</td>\n",
       "      <td>43130</td>\n",
       "      <td>7807</td>\n",
       "      <td>1</td>\n",
       "      <td>0</td>\n",
       "    </tr>\n",
       "    <tr>\n",
       "      <th>4</th>\n",
       "      <td>Kansas</td>\n",
       "      <td>43334</td>\n",
       "      <td>8373</td>\n",
       "      <td>1</td>\n",
       "      <td>0</td>\n",
       "    </tr>\n",
       "  </tbody>\n",
       "</table>\n",
       "</div>"
      ],
      "text/plain": [
       "         State  Salary  Spending  D2  D3\n",
       "0  Connecticut   60822     12436   1   0\n",
       "1     Illinois   58246      9275   1   0\n",
       "2      Indiana   47831      8935   1   0\n",
       "3         Iowa   43130      7807   1   0\n",
       "4       Kansas   43334      8373   1   0"
      ]
     },
     "execution_count": 3,
     "metadata": {},
     "output_type": "execute_result"
    }
   ],
   "source": [
    "# Visualisa\n",
    "dataframe.head()"
   ]
  },
  {
   "cell_type": "markdown",
   "id": "40dbbf94",
   "metadata": {},
   "source": [
    "___"
   ]
  },
  {
   "cell_type": "markdown",
   "id": "d9d3ece0",
   "metadata": {},
   "source": [
    "## EDA"
   ]
  },
  {
   "cell_type": "code",
   "execution_count": 4,
   "id": "766c9ebc",
   "metadata": {},
   "outputs": [
    {
     "data": {
      "text/plain": [
       "(51, 5)"
      ]
     },
     "execution_count": 4,
     "metadata": {},
     "output_type": "execute_result"
    }
   ],
   "source": [
    "# check shape\n",
    "dataframe.shape"
   ]
  },
  {
   "cell_type": "code",
   "execution_count": 5,
   "id": "0a41822e",
   "metadata": {
    "scrolled": true
   },
   "outputs": [
    {
     "data": {
      "text/plain": [
       "State       51\n",
       "Salary      51\n",
       "Spending    49\n",
       "D2           2\n",
       "D3           2\n",
       "dtype: int64"
      ]
     },
     "execution_count": 5,
     "metadata": {},
     "output_type": "execute_result"
    }
   ],
   "source": [
    "# check valore únicos\n",
    "dataframe.nunique()"
   ]
  },
  {
   "cell_type": "code",
   "execution_count": 6,
   "id": "4bd7644d",
   "metadata": {
    "scrolled": true
   },
   "outputs": [
    {
     "data": {
      "text/plain": [
       "State       0\n",
       "Salary      0\n",
       "Spending    0\n",
       "D2          0\n",
       "D3          0\n",
       "dtype: int64"
      ]
     },
     "execution_count": 6,
     "metadata": {},
     "output_type": "execute_result"
    }
   ],
   "source": [
    "# check valores ausentes\n",
    "dataframe.isna().sum()"
   ]
  },
  {
   "cell_type": "markdown",
   "id": "a372ea44",
   "metadata": {},
   "source": [
    "___"
   ]
  },
  {
   "cell_type": "markdown",
   "id": "17740ced",
   "metadata": {},
   "source": [
    "# PARTE 1"
   ]
  },
  {
   "cell_type": "markdown",
   "id": "b811da3b",
   "metadata": {},
   "source": [
    "# Subset com variáveis dummies"
   ]
  },
  {
   "cell_type": "markdown",
   "id": "71095beb",
   "metadata": {},
   "source": [
    "> ### Solução manual"
   ]
  },
  {
   "cell_type": "markdown",
   "id": "5a28c811",
   "metadata": {},
   "source": [
    "Na primeira abordagem vamos utilizar apenas as variáveis dummies como variáveis preditoras. Vamos também calcular manualmente o salário médio filtrando o dataset por região."
   ]
  },
  {
   "cell_type": "code",
   "execution_count": 7,
   "id": "3584aace",
   "metadata": {},
   "outputs": [],
   "source": [
    "# Subset\n",
    "df = dataframe[['D2', 'D3', 'Salary']]"
   ]
  },
  {
   "cell_type": "code",
   "execution_count": 8,
   "id": "8f0bfde6",
   "metadata": {},
   "outputs": [],
   "source": [
    "# South\n",
    "south = dataframe.loc[df['D3'] == 1]\n",
    "south_mean = round(south['Salary'].mean(), 1)\n",
    "\n",
    "# NorthCenter_East\n",
    "northCenter_East = dataframe.loc[df['D2'] == 1]\n",
    "northCenter_East_mean = round(northCenter_East['Salary'].mean(), 1)\n",
    "\n",
    "# west\n",
    "west = dataframe.loc[(df['D2'] == 0) & (df['D3'] == 0)]\n",
    "west_mean = round(west['Salary'].mean(), 1)"
   ]
  },
  {
   "cell_type": "code",
   "execution_count": 9,
   "id": "0fa6701a",
   "metadata": {},
   "outputs": [
    {
     "name": "stdout",
     "output_type": "stream",
     "text": [
      "South: 46293.6\n",
      "North East: 49538.7\n",
      "West: 48014.6\n"
     ]
    }
   ],
   "source": [
    "# Ver salário médio anual\n",
    "print('South:', south_mean)\n",
    "print('North East:', northCenter_East_mean )\n",
    "print('West:', west_mean)"
   ]
  },
  {
   "cell_type": "markdown",
   "id": "ce0f5d5b",
   "metadata": {},
   "source": [
    "___"
   ]
  },
  {
   "cell_type": "markdown",
   "id": "b85eeb85",
   "metadata": {},
   "source": [
    "## O problema da colinearidade perfeita com o uso de variáveis dummies"
   ]
  },
  {
   "cell_type": "markdown",
   "id": "2393ab8e",
   "metadata": {},
   "source": [
    "Quando um modelo de regressão linear é estimado utilizando variáveis dummies (categóricas) como preditoras, a interpretação dos parâmetros pode representar o valor médio de cada categoria ou a diferença entre as categorias e uma categoria-base.\n",
    "\n",
    "* **Modelo com intercepto:**\n",
    "    * O intercepto representa o valor médio da categoria-base. Neste exemplo a região Oeste. \n",
    "    * Os demais parâmetros representam a diferença entre o valor médio da categoria-base e o valor médio das demais categorias.\n",
    "    \n",
    "* **Modelo sem intercepto:**\n",
    "    * O valor de cada parâmetro representa o valor médio da categoria."
   ]
  },
  {
   "cell_type": "markdown",
   "id": "fdf12406",
   "metadata": {},
   "source": [
    "Quando o modelo é estimado com o intercepto, as variáveis preditoras não podem receber todas as categorias, caso contrário existirá colinearidade perfeita entre variáveis, logo, os parâmetros serão indefinidos e o erro padrão infinito, ou seja, o modelo não pode ser estimado.\n",
    "\n",
    "Esse problema fica evidente se reduzirmos o problema para duas categorias.\n",
    "Note que para representar se o estado pertence ou não a região sul, podemos usar apenas a variável South. \n",
    "\n",
    "    - Se a observação recebe valor 1, pertence ao Sul.\n",
    "    - Se a observação recebe valor 0, pertence a outra região."
   ]
  },
  {
   "cell_type": "code",
   "execution_count": 10,
   "id": "1dafe368",
   "metadata": {},
   "outputs": [
    {
     "data": {
      "text/html": [
       "<div>\n",
       "<style scoped>\n",
       "    .dataframe tbody tr th:only-of-type {\n",
       "        vertical-align: middle;\n",
       "    }\n",
       "\n",
       "    .dataframe tbody tr th {\n",
       "        vertical-align: top;\n",
       "    }\n",
       "\n",
       "    .dataframe thead th {\n",
       "        text-align: right;\n",
       "    }\n",
       "</style>\n",
       "<table border=\"1\" class=\"dataframe\">\n",
       "  <thead>\n",
       "    <tr style=\"text-align: right;\">\n",
       "      <th></th>\n",
       "      <th>Estate</th>\n",
       "      <th>South</th>\n",
       "    </tr>\n",
       "  </thead>\n",
       "  <tbody>\n",
       "    <tr>\n",
       "      <th>0</th>\n",
       "      <td>A</td>\n",
       "      <td>0</td>\n",
       "    </tr>\n",
       "    <tr>\n",
       "      <th>1</th>\n",
       "      <td>B</td>\n",
       "      <td>1</td>\n",
       "    </tr>\n",
       "    <tr>\n",
       "      <th>2</th>\n",
       "      <td>C</td>\n",
       "      <td>1</td>\n",
       "    </tr>\n",
       "    <tr>\n",
       "      <th>3</th>\n",
       "      <td>D</td>\n",
       "      <td>0</td>\n",
       "    </tr>\n",
       "    <tr>\n",
       "      <th>4</th>\n",
       "      <td>E</td>\n",
       "      <td>0</td>\n",
       "    </tr>\n",
       "    <tr>\n",
       "      <th>5</th>\n",
       "      <td>F</td>\n",
       "      <td>0</td>\n",
       "    </tr>\n",
       "    <tr>\n",
       "      <th>6</th>\n",
       "      <td>G</td>\n",
       "      <td>1</td>\n",
       "    </tr>\n",
       "  </tbody>\n",
       "</table>\n",
       "</div>"
      ],
      "text/plain": [
       "  Estate  South\n",
       "0      A      0\n",
       "1      B      1\n",
       "2      C      1\n",
       "3      D      0\n",
       "4      E      0\n",
       "5      F      0\n",
       "6      G      1"
      ]
     },
     "execution_count": 10,
     "metadata": {},
     "output_type": "execute_result"
    }
   ],
   "source": [
    "# Exemplo\n",
    "df_exemplo = pd.DataFrame({'Estate': ['A','B','C','D','E','F','G'],\n",
    "                           'South': [0,1,1,0,0,0,1]})\n",
    "\n",
    "df_exemplo"
   ]
  },
  {
   "cell_type": "markdown",
   "id": "059f74ae",
   "metadata": {},
   "source": [
    "Utilizar duas variáveis para representar duas categorias, como no dataframe abaixo, é desnecessário e gera colinearidade perfeita."
   ]
  },
  {
   "cell_type": "code",
   "execution_count": 11,
   "id": "02264aa8",
   "metadata": {},
   "outputs": [
    {
     "data": {
      "text/html": [
       "<div>\n",
       "<style scoped>\n",
       "    .dataframe tbody tr th:only-of-type {\n",
       "        vertical-align: middle;\n",
       "    }\n",
       "\n",
       "    .dataframe tbody tr th {\n",
       "        vertical-align: top;\n",
       "    }\n",
       "\n",
       "    .dataframe thead th {\n",
       "        text-align: right;\n",
       "    }\n",
       "</style>\n",
       "<table border=\"1\" class=\"dataframe\">\n",
       "  <thead>\n",
       "    <tr style=\"text-align: right;\">\n",
       "      <th></th>\n",
       "      <th>Estate</th>\n",
       "      <th>South</th>\n",
       "      <th>Other</th>\n",
       "    </tr>\n",
       "  </thead>\n",
       "  <tbody>\n",
       "    <tr>\n",
       "      <th>0</th>\n",
       "      <td>A</td>\n",
       "      <td>0</td>\n",
       "      <td>1</td>\n",
       "    </tr>\n",
       "    <tr>\n",
       "      <th>1</th>\n",
       "      <td>B</td>\n",
       "      <td>1</td>\n",
       "      <td>0</td>\n",
       "    </tr>\n",
       "    <tr>\n",
       "      <th>2</th>\n",
       "      <td>C</td>\n",
       "      <td>1</td>\n",
       "      <td>0</td>\n",
       "    </tr>\n",
       "    <tr>\n",
       "      <th>3</th>\n",
       "      <td>D</td>\n",
       "      <td>0</td>\n",
       "      <td>1</td>\n",
       "    </tr>\n",
       "    <tr>\n",
       "      <th>4</th>\n",
       "      <td>E</td>\n",
       "      <td>0</td>\n",
       "      <td>1</td>\n",
       "    </tr>\n",
       "    <tr>\n",
       "      <th>5</th>\n",
       "      <td>F</td>\n",
       "      <td>0</td>\n",
       "      <td>1</td>\n",
       "    </tr>\n",
       "    <tr>\n",
       "      <th>6</th>\n",
       "      <td>G</td>\n",
       "      <td>1</td>\n",
       "      <td>0</td>\n",
       "    </tr>\n",
       "  </tbody>\n",
       "</table>\n",
       "</div>"
      ],
      "text/plain": [
       "  Estate  South  Other\n",
       "0      A      0      1\n",
       "1      B      1      0\n",
       "2      C      1      0\n",
       "3      D      0      1\n",
       "4      E      0      1\n",
       "5      F      0      1\n",
       "6      G      1      0"
      ]
     },
     "execution_count": 11,
     "metadata": {},
     "output_type": "execute_result"
    }
   ],
   "source": [
    "# Exemplo\n",
    "df_exemplo = pd.DataFrame({'Estate': ['A','B','C','D','E','F','G'],\n",
    "                           'South': [0,1,1,0,0,0,1],\n",
    "                           'Other': [1,0,0,1,1,1,0]})\n",
    "\n",
    "df_exemplo"
   ]
  },
  {
   "cell_type": "code",
   "execution_count": 12,
   "id": "0c595697",
   "metadata": {},
   "outputs": [
    {
     "data": {
      "image/png": "[encoded data removed]",
      "text/plain": [
       "<Figure size 576x288 with 2 Axes>"
      ]
     },
     "metadata": {
      "needs_background": "light"
     },
     "output_type": "display_data"
    }
   ],
   "source": [
    "# View correlation\n",
    "correlation = df_exemplo.corr()\n",
    "plt.figure(figsize = (8, 4))\n",
    "heatmap = sns.heatmap(correlation, annot = True, vmin = -1, vmax = 1, linewidths = 0, cmap = 'Blues')\n",
    "\n",
    "plt.tight_layout()\n",
    "plt.show()"
   ]
  },
  {
   "cell_type": "markdown",
   "id": "416a67c2",
   "metadata": {},
   "source": [
    "Já temos os valores médios dos salários por região, temos uma visão geral sobre a interpretação dos parâmetros dada a presença ou ausência do intercepto e tratamos do problema da colinearidade perfeita.\n",
    "\n",
    "Vamos estimar os modelos com e sem intercepto e interpretar os parâmetros em cada caso."
   ]
  },
  {
   "cell_type": "markdown",
   "id": "b643bf3c",
   "metadata": {},
   "source": [
    "___"
   ]
  },
  {
   "cell_type": "markdown",
   "id": "58293bca",
   "metadata": {},
   "source": [
    "\n",
    "# Modelos"
   ]
  },
  {
   "cell_type": "markdown",
   "id": "c6f293ab",
   "metadata": {},
   "source": [
    "# Modelo com intercepto"
   ]
  },
  {
   "cell_type": "markdown",
   "id": "fa37c4be",
   "metadata": {},
   "source": [
    "Para fins de interpretação das variáveis dummies o modelo será estimado pelo pacote statsmodels. Na segunda parte faremos a comparação da estimação entre os pacotes."
   ]
  },
  {
   "cell_type": "markdown",
   "id": "8b4f77a5",
   "metadata": {},
   "source": [
    "> ### Modelo"
   ]
  },
  {
   "cell_type": "code",
   "execution_count": 13,
   "id": "0592e397",
   "metadata": {},
   "outputs": [
    {
     "data": {
      "text/plain": [
       "const    48014.62\n",
       "D2        1524.10\n",
       "D3       -1721.03\n",
       "dtype: float64"
      ]
     },
     "execution_count": 13,
     "metadata": {},
     "output_type": "execute_result"
    }
   ],
   "source": [
    "# Set X and y\n",
    "X = df[['D2', 'D3']]\n",
    "y = df['Salary']\n",
    "\n",
    "# Import \n",
    "import statsmodels.api as sm\n",
    " \n",
    "# Model and fit\n",
    "X_cte = sm.add_constant(X, has_constant = 'add')\n",
    "lin_reg = sm.OLS(y, X_cte).fit()\n",
    "\n",
    "# Parameters\n",
    "lin_reg.params.round(2)"
   ]
  },
  {
   "cell_type": "markdown",
   "id": "d61e1098",
   "metadata": {},
   "source": [
    "Comparando o valor dos parâmetros com os valores médios encontrados manualmente."
   ]
  },
  {
   "cell_type": "code",
   "execution_count": 14,
   "id": "abfbf6f2",
   "metadata": {},
   "outputs": [
    {
     "name": "stdout",
     "output_type": "stream",
     "text": [
      "B0: 48014.6\n",
      "West Mean: 48014.6\n",
      "------------------------------\n",
      "B1: 1524.1\n",
      "B0 + B1: 49538.7\n",
      "NorthCenter/East Mean: 49538.7\n",
      "------------------------------\n",
      "B2: -1721.0\n",
      "B0 + B2: 46293.6\n",
      "South mean: 46293.6\n",
      "------------------------------\n"
     ]
    }
   ],
   "source": [
    "# paramns\n",
    "B0 = lin_reg.params[0]\n",
    "B1 = lin_reg.params[1]\n",
    "B2 = lin_reg.params[2]\n",
    "\n",
    "# Print\n",
    "print(\"B0: %.1f\" % (B0))\n",
    "print(\"West Mean: %.1f\" % (west_mean))\n",
    "print('-'*30)\n",
    "print(\"B1: %.1f\" % (B1))\n",
    "print(\"B0 + B1: %.1f\" % (B0 + B1))\n",
    "print(\"NorthCenter/East Mean: %.1f\" % (northCenter_East_mean))\n",
    "print('-'*30)\n",
    "print(\"B2: %.1f\" % (B2))\n",
    "print(\"B0 + B2: %.1f\" % (B0 + B2))\n",
    "print(\"South mean: %.1f\" % (south_mean))\n",
    "print('-'*30)"
   ]
  },
  {
   "cell_type": "markdown",
   "id": "6d1817b7",
   "metadata": {},
   "source": [
    "> ## Interpretação\n",
    "\n",
    "O salário médio anual da região Oeste é de 48.014. O salário médio anual da região Nordeste/CentroNorte é 1.524 mais alto que o da região Oeste. Já o salário médio anual da região sul é 1.721 mais baixo que o da região Oeste."
   ]
  },
  {
   "cell_type": "markdown",
   "id": "a789c474",
   "metadata": {},
   "source": [
    "___"
   ]
  },
  {
   "cell_type": "markdown",
   "id": "5cd7deec",
   "metadata": {},
   "source": [
    "# Modelo sem intercepto"
   ]
  },
  {
   "cell_type": "markdown",
   "id": "fa5b412a",
   "metadata": {},
   "source": [
    "Precisamos fazer uma pequena modificação no dataset para estimar o modelo sem o intercepto, pois nesse caso precisamos de todas as variáveis, ou seja, Sul, Nordeste/CentroNorte e Oeste."
   ]
  },
  {
   "cell_type": "markdown",
   "id": "d82c2187",
   "metadata": {},
   "source": [
    "> ### Novo dataset"
   ]
  },
  {
   "cell_type": "code",
   "execution_count": 15,
   "id": "33e39181",
   "metadata": {},
   "outputs": [
    {
     "data": {
      "text/html": [
       "<div>\n",
       "<style scoped>\n",
       "    .dataframe tbody tr th:only-of-type {\n",
       "        vertical-align: middle;\n",
       "    }\n",
       "\n",
       "    .dataframe tbody tr th {\n",
       "        vertical-align: top;\n",
       "    }\n",
       "\n",
       "    .dataframe thead th {\n",
       "        text-align: right;\n",
       "    }\n",
       "</style>\n",
       "<table border=\"1\" class=\"dataframe\">\n",
       "  <thead>\n",
       "    <tr style=\"text-align: right;\">\n",
       "      <th></th>\n",
       "      <th>NorthCenterEast</th>\n",
       "      <th>South</th>\n",
       "      <th>West</th>\n",
       "      <th>Salary</th>\n",
       "    </tr>\n",
       "  </thead>\n",
       "  <tbody>\n",
       "    <tr>\n",
       "      <th>0</th>\n",
       "      <td>1</td>\n",
       "      <td>0</td>\n",
       "      <td>0</td>\n",
       "      <td>60822</td>\n",
       "    </tr>\n",
       "    <tr>\n",
       "      <th>1</th>\n",
       "      <td>1</td>\n",
       "      <td>0</td>\n",
       "      <td>0</td>\n",
       "      <td>58246</td>\n",
       "    </tr>\n",
       "    <tr>\n",
       "      <th>2</th>\n",
       "      <td>1</td>\n",
       "      <td>0</td>\n",
       "      <td>0</td>\n",
       "      <td>47831</td>\n",
       "    </tr>\n",
       "    <tr>\n",
       "      <th>3</th>\n",
       "      <td>1</td>\n",
       "      <td>0</td>\n",
       "      <td>0</td>\n",
       "      <td>43130</td>\n",
       "    </tr>\n",
       "    <tr>\n",
       "      <th>4</th>\n",
       "      <td>1</td>\n",
       "      <td>0</td>\n",
       "      <td>0</td>\n",
       "      <td>43334</td>\n",
       "    </tr>\n",
       "  </tbody>\n",
       "</table>\n",
       "</div>"
      ],
      "text/plain": [
       "   NorthCenterEast  South  West  Salary\n",
       "0                1      0     0   60822\n",
       "1                1      0     0   58246\n",
       "2                1      0     0   47831\n",
       "3                1      0     0   43130\n",
       "4                1      0     0   43334"
      ]
     },
     "execution_count": 15,
     "metadata": {},
     "output_type": "execute_result"
    }
   ],
   "source": [
    "# New dataset\n",
    "dataframe['Region'] = ' '\n",
    "dataframe.loc[df['D3'] == 1, 'Region'] = 'South'\n",
    "dataframe.loc[df['D2'] == 1, 'Region'] = 'NorthCenterEast'\n",
    "dataframe.loc[(df['D2'] == 0) & (df['D3'] == 0), 'Region'] = 'West'\n",
    "\n",
    "# Create dummies\n",
    "dummies = pd.get_dummies(dataframe['Region'], prefix = None)\n",
    "\n",
    "# dataset final\n",
    "df_final = pd.concat([dummies, dataframe['Salary']], axis = 1)\n",
    "\n",
    "# save file\n",
    "df_final.to_excel('dados/Damodar_Dataset/Table9_1_Pivot.xls', index = False)\n",
    "\n",
    "# view\n",
    "df_final.head()"
   ]
  },
  {
   "cell_type": "markdown",
   "id": "804cfae5",
   "metadata": {},
   "source": [
    "> ### Modelo"
   ]
  },
  {
   "cell_type": "code",
   "execution_count": 16,
   "id": "54701296",
   "metadata": {},
   "outputs": [
    {
     "data": {
      "text/plain": [
       "NorthCenterEast    49538.714286\n",
       "South              46293.588235\n",
       "West               48014.615385\n",
       "dtype: float64"
      ]
     },
     "execution_count": 16,
     "metadata": {},
     "output_type": "execute_result"
    }
   ],
   "source": [
    "# Set X and y\n",
    "X = df_final[['NorthCenterEast', 'South', 'West']]\n",
    "y = df_final['Salary']\n",
    "\n",
    "# import libraries\n",
    "import statsmodels.api as sm\n",
    " \n",
    "# build the model and fitting the data\n",
    "lin_reg2 = sm.OLS(y, X).fit()\n",
    "\n",
    "# Parameters\n",
    "lin_reg2.params"
   ]
  },
  {
   "cell_type": "markdown",
   "id": "b567cd97",
   "metadata": {},
   "source": [
    "Comparando o valor dos parâmetros com os valores médios encontrados manualmente."
   ]
  },
  {
   "cell_type": "code",
   "execution_count": 17,
   "id": "3e0bd163",
   "metadata": {},
   "outputs": [
    {
     "name": "stdout",
     "output_type": "stream",
     "text": [
      "B0: NorthCenterEast: 49538.7\n",
      "NorthCenterEast Mean: 49538.7\n",
      "-----------------------------------\n",
      "B1: South: 46293.6\n",
      "South mean Mean: 46293.6\n",
      "-----------------------------------\n",
      "B2: West: 48014.6\n",
      "West mean: 48014.6\n",
      "-----------------------------------\n"
     ]
    }
   ],
   "source": [
    "# Salário da região Oeste\n",
    "print(\"B0: NorthCenterEast: %.1f\" % (lin_reg2.params[0]))\n",
    "print(\"NorthCenterEast Mean: %.1f\" % (northCenter_East_mean))\n",
    "print('-'*35)\n",
    "# Salário da região NorthCenter_East_mean\n",
    "print(\"B1: South: %.1f\" % (lin_reg2.params[1]))\n",
    "print(\"South mean Mean: %.1f\" % (south_mean))\n",
    "print('-'*35)\n",
    "# Salário da região Sul\n",
    "print(\"B2: West: %.1f\" % (lin_reg2.params[2]))\n",
    "print(\"West mean: %.1f\" % (west_mean))\n",
    "print('-'*35)"
   ]
  },
  {
   "cell_type": "markdown",
   "id": "dc8cc875",
   "metadata": {},
   "source": [
    "> ## Interpretação\n",
    "\n",
    "Sem o intercepto, os parâmetros representam diretamente o valor médio dos salários por região. Os mesmos valores foram obtidos na solução manual, no modelo com intercepto somando o valor dos parâmetros ao valor da categoria base e agora no modelo sem intercepto."
   ]
  },
  {
   "cell_type": "markdown",
   "id": "1919737d",
   "metadata": {},
   "source": [
    "___"
   ]
  },
  {
   "cell_type": "markdown",
   "id": "6962d9bd",
   "metadata": {},
   "source": [
    "# PARTE 2"
   ]
  },
  {
   "cell_type": "markdown",
   "id": "5d48b624",
   "metadata": {},
   "source": [
    "# Stats models vs Sklearn vs Caret"
   ]
  },
  {
   "cell_type": "markdown",
   "id": "6367465a",
   "metadata": {},
   "source": [
    "## Modelo com intercepto"
   ]
  },
  {
   "cell_type": "markdown",
   "id": "b793bb36",
   "metadata": {},
   "source": [
    "> ### Dados"
   ]
  },
  {
   "cell_type": "code",
   "execution_count": 18,
   "id": "c251e573",
   "metadata": {},
   "outputs": [
    {
     "data": {
      "text/html": [
       "<div>\n",
       "<style scoped>\n",
       "    .dataframe tbody tr th:only-of-type {\n",
       "        vertical-align: middle;\n",
       "    }\n",
       "\n",
       "    .dataframe tbody tr th {\n",
       "        vertical-align: top;\n",
       "    }\n",
       "\n",
       "    .dataframe thead th {\n",
       "        text-align: right;\n",
       "    }\n",
       "</style>\n",
       "<table border=\"1\" class=\"dataframe\">\n",
       "  <thead>\n",
       "    <tr style=\"text-align: right;\">\n",
       "      <th></th>\n",
       "      <th>D2</th>\n",
       "      <th>D3</th>\n",
       "      <th>Salary</th>\n",
       "    </tr>\n",
       "  </thead>\n",
       "  <tbody>\n",
       "    <tr>\n",
       "      <th>0</th>\n",
       "      <td>1</td>\n",
       "      <td>0</td>\n",
       "      <td>60822</td>\n",
       "    </tr>\n",
       "    <tr>\n",
       "      <th>1</th>\n",
       "      <td>1</td>\n",
       "      <td>0</td>\n",
       "      <td>58246</td>\n",
       "    </tr>\n",
       "    <tr>\n",
       "      <th>2</th>\n",
       "      <td>1</td>\n",
       "      <td>0</td>\n",
       "      <td>47831</td>\n",
       "    </tr>\n",
       "    <tr>\n",
       "      <th>3</th>\n",
       "      <td>1</td>\n",
       "      <td>0</td>\n",
       "      <td>43130</td>\n",
       "    </tr>\n",
       "    <tr>\n",
       "      <th>4</th>\n",
       "      <td>1</td>\n",
       "      <td>0</td>\n",
       "      <td>43334</td>\n",
       "    </tr>\n",
       "  </tbody>\n",
       "</table>\n",
       "</div>"
      ],
      "text/plain": [
       "   D2  D3  Salary\n",
       "0   1   0   60822\n",
       "1   1   0   58246\n",
       "2   1   0   47831\n",
       "3   1   0   43130\n",
       "4   1   0   43334"
      ]
     },
     "execution_count": 18,
     "metadata": {},
     "output_type": "execute_result"
    }
   ],
   "source": [
    "df.head()"
   ]
  },
  {
   "cell_type": "code",
   "execution_count": 19,
   "id": "6376f36f",
   "metadata": {},
   "outputs": [],
   "source": [
    "# Set X and y\n",
    "X = df[['D2', 'D3']].astype('category')\n",
    "y = df['Salary']"
   ]
  },
  {
   "cell_type": "markdown",
   "id": "2a6c1668",
   "metadata": {},
   "source": [
    "> ### Stats Models"
   ]
  },
  {
   "cell_type": "code",
   "execution_count": 20,
   "id": "b1c5257e",
   "metadata": {},
   "outputs": [
    {
     "name": "stdout",
     "output_type": "stream",
     "text": [
      "[48014.62, 1524.1, -1721.03]\n"
     ]
    }
   ],
   "source": [
    "# import libraries\n",
    "import statsmodels.api as sm\n",
    "\n",
    "# add cte\n",
    "X_cte = sm.add_constant(X, has_constant = 'add')\n",
    "\n",
    "# Criando o modelo\n",
    "stats_linReg1 = sm.OLS(y, X_cte).fit()\n",
    "\n",
    "# parameters\n",
    "print(list(stats_linReg1.params.round(2)))"
   ]
  },
  {
   "cell_type": "markdown",
   "id": "8ac25e2f",
   "metadata": {},
   "source": [
    "> ### Skit Learn"
   ]
  },
  {
   "cell_type": "code",
   "execution_count": 21,
   "id": "966898b0",
   "metadata": {},
   "outputs": [
    {
     "name": "stdout",
     "output_type": "stream",
     "text": [
      "[48014.62  1524.1  -1721.03]\n"
     ]
    }
   ],
   "source": [
    "# import libraries\n",
    "from sklearn.linear_model import LinearRegression\n",
    "\n",
    "# Criando o modelo\n",
    "sklearn_linReg1 = LinearRegression().fit(X, y)\n",
    "\n",
    "# Treinamento do modelo\n",
    "print(np.append(sklearn_linReg1.intercept_, sklearn_linReg1.coef_).round(2))"
   ]
  },
  {
   "cell_type": "markdown",
   "id": "ae002de0",
   "metadata": {},
   "source": [
    "Para criar o modelo com intercepto no stats model é necessário adicionar uma constante na matriz X, enquanto no sklearn, como default, o modelo é criado com intercepto."
   ]
  },
  {
   "cell_type": "markdown",
   "id": "c8c27b9d",
   "metadata": {},
   "source": [
    "> ### Caret com R e com intercepto"
   ]
  },
  {
   "cell_type": "code",
   "execution_count": 22,
   "id": "3d56e7db",
   "metadata": {},
   "outputs": [
    {
     "data": {
      "text/html": [
       "<img src=\"dados/images/LinearModel_Caret_WithIntercept.jpg\"/>"
      ],
      "text/plain": [
       "<IPython.core.display.Image object>"
      ]
     },
     "execution_count": 22,
     "metadata": {},
     "output_type": "execute_result"
    }
   ],
   "source": [
    "from IPython.display import Image\n",
    "Image(url = 'dados/images/LinearModel_Caret_WithIntercept.jpg')"
   ]
  },
  {
   "cell_type": "markdown",
   "id": "75681c05",
   "metadata": {},
   "source": [
    "O intercepto é default usando caret e linguagem R."
   ]
  },
  {
   "cell_type": "markdown",
   "id": "4cf9e7f5",
   "metadata": {},
   "source": [
    "___"
   ]
  },
  {
   "cell_type": "markdown",
   "id": "c3ec1891",
   "metadata": {},
   "source": [
    "## Sem intercepto"
   ]
  },
  {
   "cell_type": "markdown",
   "id": "28561a7d",
   "metadata": {},
   "source": [
    "> ### Dados"
   ]
  },
  {
   "cell_type": "code",
   "execution_count": 23,
   "id": "af6f8916",
   "metadata": {},
   "outputs": [
    {
     "data": {
      "text/html": [
       "<div>\n",
       "<style scoped>\n",
       "    .dataframe tbody tr th:only-of-type {\n",
       "        vertical-align: middle;\n",
       "    }\n",
       "\n",
       "    .dataframe tbody tr th {\n",
       "        vertical-align: top;\n",
       "    }\n",
       "\n",
       "    .dataframe thead th {\n",
       "        text-align: right;\n",
       "    }\n",
       "</style>\n",
       "<table border=\"1\" class=\"dataframe\">\n",
       "  <thead>\n",
       "    <tr style=\"text-align: right;\">\n",
       "      <th></th>\n",
       "      <th>NorthCenterEast</th>\n",
       "      <th>South</th>\n",
       "      <th>West</th>\n",
       "      <th>Salary</th>\n",
       "    </tr>\n",
       "  </thead>\n",
       "  <tbody>\n",
       "    <tr>\n",
       "      <th>0</th>\n",
       "      <td>1</td>\n",
       "      <td>0</td>\n",
       "      <td>0</td>\n",
       "      <td>60822</td>\n",
       "    </tr>\n",
       "    <tr>\n",
       "      <th>1</th>\n",
       "      <td>1</td>\n",
       "      <td>0</td>\n",
       "      <td>0</td>\n",
       "      <td>58246</td>\n",
       "    </tr>\n",
       "    <tr>\n",
       "      <th>2</th>\n",
       "      <td>1</td>\n",
       "      <td>0</td>\n",
       "      <td>0</td>\n",
       "      <td>47831</td>\n",
       "    </tr>\n",
       "    <tr>\n",
       "      <th>3</th>\n",
       "      <td>1</td>\n",
       "      <td>0</td>\n",
       "      <td>0</td>\n",
       "      <td>43130</td>\n",
       "    </tr>\n",
       "    <tr>\n",
       "      <th>4</th>\n",
       "      <td>1</td>\n",
       "      <td>0</td>\n",
       "      <td>0</td>\n",
       "      <td>43334</td>\n",
       "    </tr>\n",
       "  </tbody>\n",
       "</table>\n",
       "</div>"
      ],
      "text/plain": [
       "   NorthCenterEast  South  West  Salary\n",
       "0                1      0     0   60822\n",
       "1                1      0     0   58246\n",
       "2                1      0     0   47831\n",
       "3                1      0     0   43130\n",
       "4                1      0     0   43334"
      ]
     },
     "execution_count": 23,
     "metadata": {},
     "output_type": "execute_result"
    }
   ],
   "source": [
    "# View\n",
    "df_final.head()"
   ]
  },
  {
   "cell_type": "code",
   "execution_count": 24,
   "id": "cd12c8d1",
   "metadata": {},
   "outputs": [],
   "source": [
    "# Set X and y\n",
    "X = df_final[['NorthCenterEast', 'South', 'West']]\n",
    "y = df_final['Salary']"
   ]
  },
  {
   "cell_type": "markdown",
   "id": "e4d53df6",
   "metadata": {},
   "source": [
    "> ### Stats Model "
   ]
  },
  {
   "cell_type": "code",
   "execution_count": 25,
   "id": "d9eacd6a",
   "metadata": {},
   "outputs": [
    {
     "name": "stdout",
     "output_type": "stream",
     "text": [
      "[49538.71, 46293.59, 48014.62]\n"
     ]
    }
   ],
   "source": [
    "# Import libraries\n",
    "import statsmodels.api as sm\n",
    "\n",
    "# Criando o modelo\n",
    "stats_linReg2 = sm.OLS(y, X).fit()\n",
    "\n",
    "# parameters\n",
    "print(list(stats_linReg2.params.round(2)))"
   ]
  },
  {
   "cell_type": "markdown",
   "id": "f04a9b5f",
   "metadata": {},
   "source": [
    "> ### Skit Learn"
   ]
  },
  {
   "cell_type": "code",
   "execution_count": 26,
   "id": "6e65a082",
   "metadata": {},
   "outputs": [
    {
     "name": "stdout",
     "output_type": "stream",
     "text": [
      "[    0.   49538.71 46293.59 48014.62]\n"
     ]
    }
   ],
   "source": [
    "# Import libraries\n",
    "from sklearn.linear_model import LinearRegression\n",
    "\n",
    "# Criando o modelo\n",
    "sklearn_linReg2 = LinearRegression(fit_intercept = False).fit(X, y)\n",
    "\n",
    "# Treinamento do modelo\n",
    "print(np.append(sklearn_linReg2.intercept_, sklearn_linReg2.coef_).round(2))"
   ]
  },
  {
   "cell_type": "markdown",
   "id": "7b81046c",
   "metadata": {},
   "source": [
    "Como default, o stats model cria o modelo sem o intercepto, enquanto no sklearn para criar o modelo sem o intercepto é necessário definir o parâmetro fit_intercept como False."
   ]
  },
  {
   "cell_type": "markdown",
   "id": "9eeb8586",
   "metadata": {},
   "source": [
    "> ### Caret com R e sem intercepto"
   ]
  },
  {
   "cell_type": "code",
   "execution_count": 27,
   "id": "6d6acd50",
   "metadata": {},
   "outputs": [
    {
     "data": {
      "text/html": [
       "<img src=\"dados/images/LinearModel_Caret_NoIntercept.jpg\"/>"
      ],
      "text/plain": [
       "<IPython.core.display.Image object>"
      ]
     },
     "execution_count": 27,
     "metadata": {},
     "output_type": "execute_result"
    }
   ],
   "source": [
    "from IPython.display import Image\n",
    "Image(url = 'dados/images/LinearModel_Caret_NoIntercept.jpg')"
   ]
  },
  {
   "cell_type": "markdown",
   "id": "03c72e1a",
   "metadata": {},
   "source": [
    "Para gerar o modelo sem intercepto usando linguagem e caret é necessário informar FALSE para o parâmetro intercepto."
   ]
  },
  {
   "cell_type": "markdown",
   "id": "dc89676b",
   "metadata": {},
   "source": [
    "___"
   ]
  },
  {
   "cell_type": "markdown",
   "id": "4b620724",
   "metadata": {},
   "source": [
    "# PARTE 3"
   ]
  },
  {
   "cell_type": "markdown",
   "id": "1d373e3a",
   "metadata": {},
   "source": [
    "# Uso de variáveis dummies e numéricas em conjunto como preditoras"
   ]
  },
  {
   "cell_type": "markdown",
   "id": "7785d071",
   "metadata": {},
   "source": [
    "## Imports"
   ]
  },
  {
   "cell_type": "code",
   "execution_count": 28,
   "id": "ff918c7d",
   "metadata": {},
   "outputs": [],
   "source": [
    "import warnings\n",
    "warnings.filterwarnings('ignore')\n",
    "\n",
    "import numpy as np\n",
    "import pandas as pd\n",
    "import statsmodels.api as sm"
   ]
  },
  {
   "cell_type": "code",
   "execution_count": 29,
   "id": "93e98944",
   "metadata": {},
   "outputs": [],
   "source": [
    "# Load data\n",
    "df_int = pd.read_excel('dados/Damodar_Dataset/Table 9_1.xls', skiprows = 3)"
   ]
  },
  {
   "cell_type": "markdown",
   "id": "d7e201aa",
   "metadata": {},
   "source": [
    "___"
   ]
  },
  {
   "cell_type": "markdown",
   "id": "f2a3f366",
   "metadata": {},
   "source": [
    "# Modelos"
   ]
  },
  {
   "cell_type": "markdown",
   "id": "11f441af",
   "metadata": {},
   "source": [
    "# Com intercepto"
   ]
  },
  {
   "cell_type": "markdown",
   "id": "9cf4a4f3",
   "metadata": {},
   "source": [
    "> ### Model"
   ]
  },
  {
   "cell_type": "code",
   "execution_count": 30,
   "id": "0222e24d",
   "metadata": {},
   "outputs": [
    {
     "data": {
      "text/html": [
       "<div>\n",
       "<style scoped>\n",
       "    .dataframe tbody tr th:only-of-type {\n",
       "        vertical-align: middle;\n",
       "    }\n",
       "\n",
       "    .dataframe tbody tr th {\n",
       "        vertical-align: top;\n",
       "    }\n",
       "\n",
       "    .dataframe thead th {\n",
       "        text-align: right;\n",
       "    }\n",
       "</style>\n",
       "<table border=\"1\" class=\"dataframe\">\n",
       "  <thead>\n",
       "    <tr style=\"text-align: right;\">\n",
       "      <th></th>\n",
       "      <th>State</th>\n",
       "      <th>Salary</th>\n",
       "      <th>Spending</th>\n",
       "      <th>D2</th>\n",
       "      <th>D3</th>\n",
       "    </tr>\n",
       "  </thead>\n",
       "  <tbody>\n",
       "    <tr>\n",
       "      <th>0</th>\n",
       "      <td>Connecticut</td>\n",
       "      <td>60822</td>\n",
       "      <td>12436</td>\n",
       "      <td>1</td>\n",
       "      <td>0</td>\n",
       "    </tr>\n",
       "    <tr>\n",
       "      <th>1</th>\n",
       "      <td>Illinois</td>\n",
       "      <td>58246</td>\n",
       "      <td>9275</td>\n",
       "      <td>1</td>\n",
       "      <td>0</td>\n",
       "    </tr>\n",
       "    <tr>\n",
       "      <th>2</th>\n",
       "      <td>Indiana</td>\n",
       "      <td>47831</td>\n",
       "      <td>8935</td>\n",
       "      <td>1</td>\n",
       "      <td>0</td>\n",
       "    </tr>\n",
       "    <tr>\n",
       "      <th>3</th>\n",
       "      <td>Iowa</td>\n",
       "      <td>43130</td>\n",
       "      <td>7807</td>\n",
       "      <td>1</td>\n",
       "      <td>0</td>\n",
       "    </tr>\n",
       "    <tr>\n",
       "      <th>4</th>\n",
       "      <td>Kansas</td>\n",
       "      <td>43334</td>\n",
       "      <td>8373</td>\n",
       "      <td>1</td>\n",
       "      <td>0</td>\n",
       "    </tr>\n",
       "  </tbody>\n",
       "</table>\n",
       "</div>"
      ],
      "text/plain": [
       "         State  Salary  Spending  D2  D3\n",
       "0  Connecticut   60822     12436   1   0\n",
       "1     Illinois   58246      9275   1   0\n",
       "2      Indiana   47831      8935   1   0\n",
       "3         Iowa   43130      7807   1   0\n",
       "4       Kansas   43334      8373   1   0"
      ]
     },
     "execution_count": 30,
     "metadata": {},
     "output_type": "execute_result"
    }
   ],
   "source": [
    "# View\n",
    "df_int.head()"
   ]
  },
  {
   "cell_type": "code",
   "execution_count": 31,
   "id": "e529224c",
   "metadata": {},
   "outputs": [
    {
     "data": {
      "text/plain": [
       "const       28694.92\n",
       "D2          -2954.13\n",
       "D3          -3112.19\n",
       "Spending        2.34\n",
       "dtype: float64"
      ]
     },
     "execution_count": 31,
     "metadata": {},
     "output_type": "execute_result"
    }
   ],
   "source": [
    "# Set X and y\n",
    "X = df_int[['D2', 'D3', 'Spending']]\n",
    "y = df_int['Salary']\n",
    "\n",
    "# Import \n",
    "import statsmodels.api as sm\n",
    " \n",
    "# Model and fit\n",
    "X_cte = sm.add_constant(X, has_constant = 'add')\n",
    "lin_reg = sm.OLS(y, X_cte).fit()\n",
    "\n",
    "# Parameters\n",
    "lin_reg.params.round(2)"
   ]
  },
  {
   "cell_type": "markdown",
   "id": "ed16fe9e",
   "metadata": {},
   "source": [
    "> ## Interpretação\n",
    "\n",
    "Controlando a variável Spending no modelo, o salário médio anual da região Oeste é de 28.694. O salário médio anual da região Nordeste/CentroNorte é 2.954 mais baixo que o da região Oeste, isto é,  25.740. Já o salário médio anual da região sul é de 25.582, 3.112,19 mais baixo que o da região Oeste. \n",
    "\n",
    "O parâmetro de spending mostra que para cada dólar adicional de gasto público por aluno, *ceteris paribus*, espera-se que o salário do professor aumente $2,34.\n",
    "\n",
    "Vale destacar que neste caso podemos definir 3 equações para calcular o salário dos professores em função dos gastos por aluno, uma para cada região.\n",
    "\n",
    "- $ \\hat{y} = 28694 + 2.34x_i $ : Oeste\n",
    "- $ \\hat{y} = 25740 + 2.34x_i $ : Nordeste/CentroNorte\n",
    "- $ \\hat{y} = 25582 + 2.34x_i $ : Sul\n",
    "\n",
    "Onde $ x_i $ é o gasto público por aluno.\n",
    "\n",
    "Mesmo definido 3 equações, estatisticamente elas são a mesma. No modelo seguinte isso fica claro."
   ]
  },
  {
   "cell_type": "markdown",
   "id": "a9838ffe",
   "metadata": {},
   "source": [
    "# Sem intercepto"
   ]
  },
  {
   "cell_type": "markdown",
   "id": "9e6f3121",
   "metadata": {},
   "source": [
    "> ### Modelo"
   ]
  },
  {
   "cell_type": "code",
   "execution_count": 32,
   "id": "d136f1c4",
   "metadata": {},
   "outputs": [
    {
     "data": {
      "text/html": [
       "<div>\n",
       "<style scoped>\n",
       "    .dataframe tbody tr th:only-of-type {\n",
       "        vertical-align: middle;\n",
       "    }\n",
       "\n",
       "    .dataframe tbody tr th {\n",
       "        vertical-align: top;\n",
       "    }\n",
       "\n",
       "    .dataframe thead th {\n",
       "        text-align: right;\n",
       "    }\n",
       "</style>\n",
       "<table border=\"1\" class=\"dataframe\">\n",
       "  <thead>\n",
       "    <tr style=\"text-align: right;\">\n",
       "      <th></th>\n",
       "      <th>NorthCenterEast</th>\n",
       "      <th>South</th>\n",
       "      <th>West</th>\n",
       "      <th>Spending</th>\n",
       "      <th>Salary</th>\n",
       "    </tr>\n",
       "  </thead>\n",
       "  <tbody>\n",
       "    <tr>\n",
       "      <th>0</th>\n",
       "      <td>1</td>\n",
       "      <td>0</td>\n",
       "      <td>0</td>\n",
       "      <td>12436</td>\n",
       "      <td>60822</td>\n",
       "    </tr>\n",
       "    <tr>\n",
       "      <th>1</th>\n",
       "      <td>1</td>\n",
       "      <td>0</td>\n",
       "      <td>0</td>\n",
       "      <td>9275</td>\n",
       "      <td>58246</td>\n",
       "    </tr>\n",
       "    <tr>\n",
       "      <th>2</th>\n",
       "      <td>1</td>\n",
       "      <td>0</td>\n",
       "      <td>0</td>\n",
       "      <td>8935</td>\n",
       "      <td>47831</td>\n",
       "    </tr>\n",
       "    <tr>\n",
       "      <th>3</th>\n",
       "      <td>1</td>\n",
       "      <td>0</td>\n",
       "      <td>0</td>\n",
       "      <td>7807</td>\n",
       "      <td>43130</td>\n",
       "    </tr>\n",
       "    <tr>\n",
       "      <th>4</th>\n",
       "      <td>1</td>\n",
       "      <td>0</td>\n",
       "      <td>0</td>\n",
       "      <td>8373</td>\n",
       "      <td>43334</td>\n",
       "    </tr>\n",
       "  </tbody>\n",
       "</table>\n",
       "</div>"
      ],
      "text/plain": [
       "   NorthCenterEast  South  West  Spending  Salary\n",
       "0                1      0     0     12436   60822\n",
       "1                1      0     0      9275   58246\n",
       "2                1      0     0      8935   47831\n",
       "3                1      0     0      7807   43130\n",
       "4                1      0     0      8373   43334"
      ]
     },
     "execution_count": 32,
     "metadata": {},
     "output_type": "execute_result"
    }
   ],
   "source": [
    "# New dataset\n",
    "df_int['Region'] = ' '\n",
    "df_int.loc[df['D3'] == 1, 'Region'] = 'South'\n",
    "df_int.loc[df['D2'] == 1, 'Region'] = 'NorthCenterEast'\n",
    "df_int.loc[(df['D2'] == 0) & (df['D3'] == 0), 'Region'] = 'West'\n",
    "\n",
    "# Create dummies\n",
    "dummies = pd.get_dummies(dataframe['Region'], prefix = None)\n",
    "\n",
    "# dataset final\n",
    "df_noint = pd.concat([dummies, dataframe[['Spending' ,'Salary']]], axis = 1)\n",
    "df_noint.head()"
   ]
  },
  {
   "cell_type": "code",
   "execution_count": 33,
   "id": "ba7b1a2e",
   "metadata": {},
   "outputs": [
    {
     "data": {
      "text/plain": [
       "NorthCenterEast    25740.79\n",
       "South              25582.72\n",
       "West               28694.92\n",
       "Spending               2.34\n",
       "dtype: float64"
      ]
     },
     "execution_count": 33,
     "metadata": {},
     "output_type": "execute_result"
    }
   ],
   "source": [
    "# Set X and y\n",
    "X = df_noint[['NorthCenterEast', 'South', 'West', 'Spending']]\n",
    "y = df_noint['Salary']\n",
    "\n",
    "# Import \n",
    "import statsmodels.api as sm\n",
    " \n",
    "# Model and fit\n",
    "lin_reg = sm.OLS(y, X).fit()\n",
    "\n",
    "# Parameters\n",
    "lin_reg.params.round(2)"
   ]
  },
  {
   "cell_type": "markdown",
   "id": "cad24d13",
   "metadata": {},
   "source": [
    "> ## Interpretação\n",
    "\n",
    "Estimando o modelo sem o intercepto é possível verificar rapidamente que os salários médios são próprios parâmetros estimados e o parâmetro da variável spending é o mesmo do modelo anterior.\n",
    "\n",
    "Nesse caso para calcular o salário dos professores de uma região em função dos gastos por aluno, basta definir como zero as variáveis das outras regiões e teremos as mesmas equações encontradas anteriormente.\n",
    "\n",
    "- $ \\hat{y} = 28694 + 2.34x_i $ : Oeste\n",
    "- $ \\hat{y} = 25740 + 2.34x_i $ : Nordeste/CentroNorte\n",
    "- $ \\hat{y} = 25582 + 2.34x_i $ : Sul\n",
    "\n",
    "Onde $ x_i $ é o gasto público por aluno."
   ]
  },
  {
   "cell_type": "markdown",
   "id": "8bc46bef",
   "metadata": {},
   "source": [
    "___"
   ]
  }
 ],
 "metadata": {
  "kernelspec": {
   "display_name": "Python 3 (ipykernel)",
   "language": "python",
   "name": "python3"
  },
  "language_info": {
   "codemirror_mode": {
    "name": "ipython",
    "version": 3
   },
   "file_extension": ".py",
   "mimetype": "text/x-python",
   "name": "python",
   "nbconvert_exporter": "python",
   "pygments_lexer": "ipython3",
   "version": "3.8.8"
  }
 },
 "nbformat": 4,
 "nbformat_minor": 5
}
