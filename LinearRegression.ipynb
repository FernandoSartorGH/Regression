{
 "cells": [
  {
   "cell_type": "markdown",
   "id": "30852afb",
   "metadata": {},
   "source": [
    "### "
   ]
  },
  {
   "cell_type": "markdown",
   "id": "4003eb5c",
   "metadata": {},
   "source": [
    "# <center> Regressão Linear"
   ]
  },
  {
   "cell_type": "markdown",
   "id": "6b7aab3f",
   "metadata": {},
   "source": [
    "___"
   ]
  },
  {
   "cell_type": "markdown",
   "id": "7a98abd6",
   "metadata": {},
   "source": [
    "## Objetivo"
   ]
  },
  {
   "cell_type": "markdown",
   "id": "5e68410a",
   "metadata": {},
   "source": [
    "Este material busca trazer uma visão geral sobre os modelos de regressão linear explorando as formas de estimação e variações do modelo quanto à forma fucional e regularizações ou restrições.."
   ]
  },
  {
   "cell_type": "markdown",
   "id": "67819054",
   "metadata": {},
   "source": [
    "## Definição e premissas"
   ]
  },
  {
   "cell_type": "markdown",
   "id": "792d18b7",
   "metadata": {},
   "source": [
    "A regressão linear é um método estatístico em que se explora a relação linear existente entre variáveis de tal modo que seja possível fazer previsões por meio de inferências estatísticas. O modelo é estimado utilizando métodos estatísticos que minimizam os erros de previsão. \n",
    "\n",
    "O modelo assume a normalidade dos dados e se as premissas de Gauss Markov forem atendidas, a estimação dos parâmetros pelo método dos Mínimos Quadrados Ordinários resulta no melhor estimador linear não viesado. \n",
    "\n",
    "##### Premissas de Gauss Markov:\n",
    "\n",
    "    1) Amostragem aleatória\n",
    "    2) O modelo é linear nos parâmetros\n",
    "    3) A variância em X não é nula\n",
    "    4) Colineriadade imperfeita \n",
    "    5) A média condicional dos resíduos é zero (o valor esperado dos erros é zero)\n",
    "    6) Heterocedasticidade (a variância dos resíduos é constante)\n",
    "    7) Ausência de correlação entre os resíduos\n",
    "    \n",
    "O fato de o modelo assumir que os erros possuem uma distribuição normal com média zero e variância constante (hipóteses 5 e 6) implica que em torno do valor estimado existe uma distribuição normal e que o valor observado é uma realização dessa distribuição centrada na reta. Logo, o valor observado tem uma probabilidade de estar longe da reta, ou seja, longe do valor previsto. Porém, a probabilidade de estar sobre a reta é maior, pois estando centrada na reta, a média, mediana e moda estarão sobre a reta."
   ]
  },
  {
   "cell_type": "markdown",
   "id": "7a452073",
   "metadata": {},
   "source": [
    "___"
   ]
  },
  {
   "cell_type": "markdown",
   "id": "b99d72c7",
   "metadata": {},
   "source": [
    "## Imports"
   ]
  },
  {
   "cell_type": "code",
   "execution_count": 1,
   "id": "99572ce3",
   "metadata": {},
   "outputs": [],
   "source": [
    "# Imports\n",
    "import warnings\n",
    "warnings.filterwarnings('ignore')\n",
    "\n",
    "import numpy as np\n",
    "import matplotlib.pyplot as plt"
   ]
  },
  {
   "cell_type": "markdown",
   "id": "368569a4",
   "metadata": {},
   "source": [
    "___"
   ]
  },
  {
   "cell_type": "code",
   "execution_count": 2,
   "id": "5d6ef7ba",
   "metadata": {},
   "outputs": [],
   "source": [
    "# Create some data\n",
    "X = 2 * np.random.rand(100, 1)\n",
    "y = 4 + 3 * X + np.random.rand(100, 1)"
   ]
  },
  {
   "cell_type": "code",
   "execution_count": 3,
   "id": "afb446a1",
   "metadata": {},
   "outputs": [
    {
     "data": {
      "image/png": "[encoded data removed]",
      "text/plain": [
       "<Figure size 720x432 with 1 Axes>"
      ]
     },
     "metadata": {
      "needs_background": "light"
     },
     "output_type": "display_data"
    }
   ],
   "source": [
    "# PLot\n",
    "plt.figure(figsize = (10,6))\n",
    "\n",
    "plt.plot(X, y, 'b.')\n",
    "plt.axis([0,2,0,15])\n",
    "plt.title('Make Data', fontsize = 16)\n",
    "plt.show()"
   ]
  },
  {
   "cell_type": "markdown",
   "id": "2bc98974",
   "metadata": {},
   "source": [
    "Os modelos de regressão linear buscam estimar os parâmetros de uma equação linear que minimiza os erros de previsão. Esses parâmetros são econtrados calculando a soma ponderada das características de entrada mais o viés (constante)."
   ]
  },
  {
   "cell_type": "markdown",
   "id": "ba58cad6",
   "metadata": {},
   "source": [
    "Predição do modelo de regressão linear\n",
    "\n",
    "### $ \\hat{y} = \\hat{\\beta_{0}} + \\hat{\\beta_{1}}x_{1} + \\hat{\\beta_{2}}x_{2} + ... + \\hat{\\beta_{n}}x_{n} $"
   ]
  },
  {
   "cell_type": "markdown",
   "id": "210e0774",
   "metadata": {},
   "source": [
    "Forma vetorizada\n",
    "\n",
    "### $ \\hat{y} = h_{\\beta}(x) = \\beta x  $"
   ]
  },
  {
   "cell_type": "markdown",
   "id": "7cdf7125",
   "metadata": {},
   "source": [
    "___"
   ]
  },
  {
   "cell_type": "markdown",
   "id": "0f6b9f70",
   "metadata": {},
   "source": [
    "# <center> Estimação dos Parâmetros"
   ]
  },
  {
   "cell_type": "markdown",
   "id": "25e5bcb9",
   "metadata": {},
   "source": [
    "## 1 - Modelo fechado\n",
    "\n",
    "### $ \\hat{\\beta}  = (X^{T}X)^{-1} X^{T} y $"
   ]
  },
  {
   "cell_type": "code",
   "execution_count": 4,
   "id": "a52578d6",
   "metadata": {},
   "outputs": [
    {
     "data": {
      "text/plain": [
       "array([[4.48290575],\n",
       "       [2.96537475]])"
      ]
     },
     "execution_count": 4,
     "metadata": {},
     "output_type": "execute_result"
    }
   ],
   "source": [
    "# Add constant to matriz X\n",
    "X_b = np.c_[np.ones((100,1)), X]\n",
    "\n",
    "# Calculate the vector with the parameters\n",
    "beta = np.linalg.inv(X_b.T.dot(X_b)).dot(X_b.T).dot(y)\n",
    "\n",
    "# View\n",
    "beta"
   ]
  },
  {
   "cell_type": "code",
   "execution_count": 5,
   "id": "2227a708",
   "metadata": {},
   "outputs": [
    {
     "data": {
      "text/plain": [
       "array([[ 4.48290575],\n",
       "       [10.41365525]])"
      ]
     },
     "execution_count": 5,
     "metadata": {},
     "output_type": "execute_result"
    }
   ],
   "source": [
    "X_new = np.array([[0], [2]])\n",
    "X_new_b = np.c_[np.ones((2, 1)), X_new]\n",
    "\n",
    "# Predict\n",
    "y_predict = X_new_b.dot(beta)\n",
    "y_predict"
   ]
  },
  {
   "cell_type": "code",
   "execution_count": 6,
   "id": "e51d9c18",
   "metadata": {},
   "outputs": [
    {
     "data": {
      "image/png": "[encoded data removed]",
      "text/plain": [
       "<Figure size 720x432 with 1 Axes>"
      ]
     },
     "metadata": {
      "needs_background": "light"
     },
     "output_type": "display_data"
    }
   ],
   "source": [
    "# PLot\n",
    "plt.figure(figsize = (10,6))\n",
    "\n",
    "plt.plot(X_new, y_predict, 'r-', label = 'Predictions')\n",
    "plt.plot(X, y, 'b.')\n",
    "plt.axis([0,2,0,15])\n",
    "plt.title('Linear Regression with MQO', fontsize = 16)\n",
    "plt.legend()\n",
    "plt.show()"
   ]
  },
  {
   "cell_type": "markdown",
   "id": "0af019bf",
   "metadata": {},
   "source": [
    "### Usando sklearn"
   ]
  },
  {
   "cell_type": "code",
   "execution_count": 7,
   "id": "d974957e",
   "metadata": {},
   "outputs": [
    {
     "data": {
      "text/plain": [
       "(array([4.48290575]), array([[2.96537475]]))"
      ]
     },
     "execution_count": 7,
     "metadata": {},
     "output_type": "execute_result"
    }
   ],
   "source": [
    "# Import\n",
    "from sklearn.linear_model import LinearRegression\n",
    "\n",
    "# Create and train model\n",
    "lin_reg = LinearRegression()\n",
    "lin_reg.fit(X, y)\n",
    "lin_reg.intercept_, lin_reg.coef_"
   ]
  },
  {
   "cell_type": "code",
   "execution_count": 8,
   "id": "f4dcdd94",
   "metadata": {},
   "outputs": [
    {
     "data": {
      "text/plain": [
       "array([[ 4.48290575],\n",
       "       [10.41365525]])"
      ]
     },
     "execution_count": 8,
     "metadata": {},
     "output_type": "execute_result"
    }
   ],
   "source": [
    "# Predict \n",
    "lin_reg.predict(X_new)"
   ]
  },
  {
   "cell_type": "markdown",
   "id": "2eb06021",
   "metadata": {},
   "source": [
    "### Usando numpy"
   ]
  },
  {
   "cell_type": "code",
   "execution_count": 9,
   "id": "ee5092da",
   "metadata": {},
   "outputs": [
    {
     "data": {
      "text/plain": [
       "array([[4.48290575],\n",
       "       [2.96537475]])"
      ]
     },
     "execution_count": 9,
     "metadata": {},
     "output_type": "execute_result"
    }
   ],
   "source": [
    "# A classe LinearRegression é baseada na classe scipy.linalg.lstsq()\n",
    "beta_svd =  np.linalg.lstsq(X_b, y, rcond = 1e-6)\n",
    "beta_svd[0]"
   ]
  },
  {
   "cell_type": "markdown",
   "id": "326e7bc6",
   "metadata": {},
   "source": [
    "Essa função usa o pseudoinverso de X de Moore-Penrose. Essa abordagem elimina os problemas de matrizes sem inversa, de m < n e colinearidade perfeita.\n",
    "\n",
    "### $ \\hat{\\beta}  = X^{+} y $\n",
    "\n",
    "\n",
    "A ideia é decompor a matriz de treinamento $X$ no produto entre três matrizes.\n",
    "### $ X^{+} = V \\sum^{+}U^{T}  $\n",
    "\n",
    "Para calcular $\\sum^{+}$ define-se como zero todos os valores menores que um pequeno valor de  limiar, substitui os demais valores pelo inverso e transpõe a matriz resultante."
   ]
  },
  {
   "cell_type": "code",
   "execution_count": 10,
   "id": "df1dbedc",
   "metadata": {},
   "outputs": [
    {
     "data": {
      "text/plain": [
       "array([[4.48290575],\n",
       "       [2.96537475]])"
      ]
     },
     "execution_count": 10,
     "metadata": {},
     "output_type": "execute_result"
    }
   ],
   "source": [
    "# Aplicando o pseudoinverso com numpy\n",
    "np.linalg.pinv(X_b).dot(y)"
   ]
  },
  {
   "cell_type": "markdown",
   "id": "7b9bb18e",
   "metadata": {},
   "source": [
    "## 2- Gradient Descent"
   ]
  },
  {
   "cell_type": "markdown",
   "id": "c6d6c3eb",
   "metadata": {},
   "source": [
    "O objetivo é ajustar iterativamente os parâmetros com o intuito de minimizar uma função de custo.\n",
    "\n",
    "A analogia mais comum sobre o gradiente descendente é imaginar-se no topo de uma montanha e que você precisa descer o mais rápido até o fim do vale. Além disso, você não congue ver a ancosta, só pode sentir o declive abaixo dos pés. A estratégia seria sentir o declive em todos os lados e seguir o mais íngreme.\n",
    "\n",
    "O algoritmo calcula o gradiente local da função de erro em relação ao vetor de parâmetros e segue em direção ao gradiente descendente. Quando o gradiente for zero encontramos o mínimo. \n",
    "\n",
    "**Parâmetros e características:**\n",
    "\n",
    "    * Taxa de aprendizado: É o tamanho das etapas ou dos passos que o algoritmo dá em busca do mínimo. Se for muito pequeno o algoritmo precisa de muitas iterações até encontar o mínimo. Se for muito grande pode passar do mínimo e acabar em um ponto mais alto do que estava quando começou.\n",
    "    \n",
    "    * Forma da função de custo: Quando a função é uma parábola convexa, iniciar pela esquerda ou direita não fará diferença e o modelo caminha direto para o único mínimo da função. Caso a função tenha mínimos locais, o que seria equivalente a encontrar buracos durante a descida da montanha, a solução encontrada pode não ser ótima, pois buscado é o mínimo global da função. Caso a função tenha uma baixa inclição, precisamos de um grande número de iterações para atravessar o platô. Aumentar a taxa de aprendizado pode ser uma solução, mas em excesso, como já mencionamos, podemos passar do mínimo global e não encontrar uma boa solução.\n",
    "    \n",
    "    \n",
    "A função de custo MSE é uma função convexa sem mínimos locais, ou seja, há apenas um mínimo global. Isso facilita a estimação dos parâmetros e o resultado encontrado converge para os resultados encontrados pelos modelos anteriores."
   ]
  },
  {
   "cell_type": "markdown",
   "id": "7051f121",
   "metadata": {},
   "source": [
    "## GD em batch (lote)"
   ]
  },
  {
   "cell_type": "markdown",
   "id": "c3e5e68e",
   "metadata": {},
   "source": [
    "### $ \\triangledown_{\\beta}MSE(\\beta) = \\frac{2}{m} X^{T}(X\\beta - y)  $\n",
    "\n",
    "### $ \\beta(next) = \\beta - \\eta * \\triangledown_{\\beta}MSE(\\beta) $"
   ]
  },
  {
   "cell_type": "code",
   "execution_count": 11,
   "id": "6a9fdc96",
   "metadata": {},
   "outputs": [
    {
     "data": {
      "text/plain": [
       "array([[4.48290575],\n",
       "       [2.96537475]])"
      ]
     },
     "execution_count": 11,
     "metadata": {},
     "output_type": "execute_result"
    }
   ],
   "source": [
    "# Taxa de aprendizado\n",
    "eta = 0.1\n",
    "\n",
    "# Núm de iterações\n",
    "n_iterations = 1000\n",
    "m = 100\n",
    "\n",
    "# Inicialização aleatória\n",
    "beta = np.random.randn(2,1)\n",
    "\n",
    "for iteration in range (n_iterations):\n",
    "    gradients = 2/m * X_b.T.dot(X_b.dot(beta) - y)\n",
    "    beta = beta - eta * gradients\n",
    "    \n",
    "# view\n",
    "beta"
   ]
  },
  {
   "cell_type": "markdown",
   "id": "8c8970a8",
   "metadata": {},
   "source": [
    "## GD estocástico"
   ]
  },
  {
   "cell_type": "markdown",
   "id": "cb8a00d5",
   "metadata": {},
   "source": [
    "Um dos problemas da aplicação do GD em batch é que ele usa todo o conjunto de dados de treinamento para calcular os gradientes em cada etapa, tornando o processo de treinamento mais lento. O GD estocástico trabalha no outro extremo, selecionando uma instância aleatória no conjunto de treinamento a cada etapa e calculando os grandientes baseados nessa única instância selecionada.\n",
    "\n",
    "Devido a aleatriedade do processo esse algoritmo não desce regular e suavemente até o mínimo, ele desce na media e terminará muito próximo do mínimo nunca se estabilizando. Caso a função de custo seja irregular, contendo mínimos locais, o GD estocástico tem maior chance de encontrar o mínimo global em comparação com o GD em batch.\n",
    "\n",
    "Em resumo, o GD estcástico é uma solução para o problema dos mínimos locais, porém o modelo pode nunca estabilizar no mínimo. Uma solução seria reduzir gradualmente a taxa de aprendizado. Uma taxa alta no início possibilitaria o modelo escapar dos mínimos locais e uma taxa baixa no final permitiria o modelo estabilizar no mínimo global."
   ]
  },
  {
   "cell_type": "code",
   "execution_count": 12,
   "id": "ef18d4af",
   "metadata": {},
   "outputs": [
    {
     "data": {
      "text/plain": [
       "array([[4.45624644],\n",
       "       [2.96667446]])"
      ]
     },
     "execution_count": 12,
     "metadata": {},
     "output_type": "execute_result"
    }
   ],
   "source": [
    "# Número de iterações\n",
    "m = 100\n",
    "\n",
    "# Número de rodadas\n",
    "n_epochs = 50\n",
    "\n",
    "# Hiperparâmetros do cronograma de aprendizado\n",
    "t0, t1 = 5, 50\n",
    "\n",
    "def learning_schedule(t):\n",
    "    return t0 / (t + t1)\n",
    "\n",
    "# Inicialização aleatória\n",
    "beta = np.random.randn(2,1)\n",
    "\n",
    "for epoch in range(n_epochs):\n",
    "    for i in range(m):\n",
    "        random_index = np.random.randint(m)\n",
    "        xi = X_b[random_index:random_index + 1]\n",
    "        yi = y[random_index:random_index + 1]\n",
    "        \n",
    "        gradients = 2 * xi.T.dot(xi.dot(beta) - yi)\n",
    "        eta = learning_schedule(epoch * m + i)\n",
    "        beta = beta - eta * gradients\n",
    "        \n",
    "# View\n",
    "beta"
   ]
  },
  {
   "cell_type": "markdown",
   "id": "e8df83d1",
   "metadata": {},
   "source": [
    "### Usando sklearn"
   ]
  },
  {
   "cell_type": "code",
   "execution_count": 13,
   "id": "a6199a7a",
   "metadata": {},
   "outputs": [
    {
     "data": {
      "text/plain": [
       "(array([4.46376239]), array([2.97767]))"
      ]
     },
     "execution_count": 13,
     "metadata": {},
     "output_type": "execute_result"
    }
   ],
   "source": [
    "# import\n",
    "from sklearn.linear_model import SGDRegressor\n",
    "\n",
    "sgd_reg = SGDRegressor(max_iter = 1000, tol = 1e-3, penalty = None, eta0 = 0.1)\n",
    "sgd_reg.fit(X, y.ravel())\n",
    "\n",
    "sgd_reg.intercept_, sgd_reg.coef_"
   ]
  },
  {
   "cell_type": "markdown",
   "id": "4e58208e",
   "metadata": {},
   "source": [
    "___\n"
   ]
  },
  {
   "cell_type": "markdown",
   "id": "4c6029a8",
   "metadata": {},
   "source": [
    "# <center> Regressão Polinomial"
   ]
  },
  {
   "cell_type": "markdown",
   "id": "70a2d3dd",
   "metadata": {},
   "source": [
    "Uma das premissas de Gauss-Markov é que o modelo precisa ser linear nos parâmetros. Portanto, o modelo pode ser não linear nas variáveis. Como exemplo temos algumas formas funcionais de variáveis bem conhecidas como o lucro sendo uma função quadrática e formando uma parábola côncava e a função de custo como uma equação de terceiro grau. "
   ]
  },
  {
   "cell_type": "markdown",
   "id": "872e285b",
   "metadata": {},
   "source": [
    "## Forma quadrática"
   ]
  },
  {
   "cell_type": "code",
   "execution_count": 14,
   "id": "888b3e2a",
   "metadata": {},
   "outputs": [],
   "source": [
    "# Equação quadrática simples\n",
    "m = 100\n",
    "X = 6 * np.random.rand(m, 1) - 3\n",
    "y = -0.5 * X**2 + X + 2 + np.random.randn(m, 1)"
   ]
  },
  {
   "cell_type": "code",
   "execution_count": 15,
   "id": "04c3e918",
   "metadata": {},
   "outputs": [
    {
     "data": {
      "image/png": "[encoded data removed]",
      "text/plain": [
       "<Figure size 720x432 with 1 Axes>"
      ]
     },
     "metadata": {
      "needs_background": "light"
     },
     "output_type": "display_data"
    }
   ],
   "source": [
    "# PLot\n",
    "plt.figure(figsize = (10,6))\n",
    "\n",
    "plt.plot(X, y, 'b.')\n",
    "plt.title('Quadratic Polynomial Form', fontsize = 16)\n",
    "plt.show()"
   ]
  },
  {
   "cell_type": "markdown",
   "id": "69f3234b",
   "metadata": {},
   "source": [
    "É evidente que a forma funcional é quadrática. Podemos usar o sklearn para adicionar o quadrado a cada variável"
   ]
  },
  {
   "cell_type": "code",
   "execution_count": 16,
   "id": "1d75e777",
   "metadata": {},
   "outputs": [],
   "source": [
    "# add **\n",
    "from sklearn.preprocessing import PolynomialFeatures\n",
    "\n",
    "poly_features = PolynomialFeatures(degree = 2, include_bias = False)\n",
    "X_poly = poly_features.fit_transform(X)"
   ]
  },
  {
   "cell_type": "code",
   "execution_count": 17,
   "id": "d003e3a7",
   "metadata": {},
   "outputs": [
    {
     "data": {
      "text/plain": [
       "(array([1.98707683]), array([[ 1.08300628, -0.51345665]]))"
      ]
     },
     "execution_count": 17,
     "metadata": {},
     "output_type": "execute_result"
    }
   ],
   "source": [
    "# Import\n",
    "from sklearn.linear_model import LinearRegression\n",
    "\n",
    "# Create and train model\n",
    "lin_reg = LinearRegression()\n",
    "lin_reg.fit(X_poly, y)\n",
    "lin_reg.intercept_, lin_reg.coef_"
   ]
  },
  {
   "cell_type": "code",
   "execution_count": 18,
   "id": "25a4b074",
   "metadata": {},
   "outputs": [],
   "source": [
    "# Predict\n",
    "predict = lin_reg.predict(X_poly)"
   ]
  },
  {
   "cell_type": "code",
   "execution_count": 19,
   "id": "c3e1d49f",
   "metadata": {
    "scrolled": false
   },
   "outputs": [
    {
     "data": {
      "image/png": "[encoded data removed]",
      "text/plain": [
       "<Figure size 720x432 with 1 Axes>"
      ]
     },
     "metadata": {
      "needs_background": "light"
     },
     "output_type": "display_data"
    }
   ],
   "source": [
    "# PLot\n",
    "plt.figure(figsize = (10,6))\n",
    "\n",
    "plt.plot(X, y, 'b.')\n",
    "plt.plot(X, predict, 'r.', label = 'Predictions')\n",
    "plt.title('Quadratic Form', fontsize = 16)\n",
    "plt.legend()\n",
    "plt.show()"
   ]
  },
  {
   "cell_type": "markdown",
   "id": "2824db02",
   "metadata": {},
   "source": [
    "## Forma cúbica"
   ]
  },
  {
   "cell_type": "code",
   "execution_count": 20,
   "id": "61718bfa",
   "metadata": {},
   "outputs": [],
   "source": [
    "# Equação quadrática simples\n",
    "m = 100\n",
    "X = 6 * np.random.rand(m, 1) - 3\n",
    "y = X**3 + X**2 + X + 2 + 2* np.random.randn(m, 1)"
   ]
  },
  {
   "cell_type": "code",
   "execution_count": 21,
   "id": "d857e87b",
   "metadata": {},
   "outputs": [
    {
     "data": {
      "image/png": "[encoded data removed]",
      "text/plain": [
       "<Figure size 720x432 with 1 Axes>"
      ]
     },
     "metadata": {
      "needs_background": "light"
     },
     "output_type": "display_data"
    }
   ],
   "source": [
    "# PLot\n",
    "plt.figure(figsize = (10,6))\n",
    "\n",
    "plt.plot(X, y, 'b.')\n",
    "plt.title('Cubic Polynomial Form', fontsize = 16)\n",
    "plt.show()"
   ]
  },
  {
   "cell_type": "markdown",
   "id": "ddd4721c",
   "metadata": {},
   "source": [
    "É evidente que a forma funcional é quadrática. Podemos usar o sklearn para adicionar o quadrado a cada variável"
   ]
  },
  {
   "cell_type": "code",
   "execution_count": 22,
   "id": "8eeea4c5",
   "metadata": {},
   "outputs": [],
   "source": [
    "# add **\n",
    "from sklearn.preprocessing import PolynomialFeatures\n",
    "\n",
    "poly_features = PolynomialFeatures(degree = 3, include_bias = False)\n",
    "X_poly = poly_features.fit_transform(X)"
   ]
  },
  {
   "cell_type": "code",
   "execution_count": 23,
   "id": "9b479cf5",
   "metadata": {},
   "outputs": [
    {
     "data": {
      "text/plain": [
       "(array([2.24185168]), array([[0.88733882, 0.97131453, 0.98530476]]))"
      ]
     },
     "execution_count": 23,
     "metadata": {},
     "output_type": "execute_result"
    }
   ],
   "source": [
    "# Import\n",
    "from sklearn.linear_model import LinearRegression\n",
    "\n",
    "# Create and train model\n",
    "lin_reg = LinearRegression()\n",
    "lin_reg.fit(X_poly, y)\n",
    "lin_reg.intercept_, lin_reg.coef_"
   ]
  },
  {
   "cell_type": "code",
   "execution_count": 24,
   "id": "6df2851c",
   "metadata": {},
   "outputs": [],
   "source": [
    "# Predict\n",
    "predict = lin_reg.predict(X_poly)"
   ]
  },
  {
   "cell_type": "code",
   "execution_count": 25,
   "id": "f0d01b27",
   "metadata": {},
   "outputs": [
    {
     "data": {
      "image/png": "[encoded data removed]",
      "text/plain": [
       "<Figure size 720x432 with 1 Axes>"
      ]
     },
     "metadata": {
      "needs_background": "light"
     },
     "output_type": "display_data"
    }
   ],
   "source": [
    "# PLot\n",
    "plt.figure(figsize = (10,6))\n",
    "\n",
    "plt.plot(X, y, 'b.')\n",
    "plt.plot(X, predict, 'r.', label = 'Predictions')\n",
    "plt.title('Cubic Form', fontsize = 16)\n",
    "plt.legend()\n",
    "plt.show()"
   ]
  },
  {
   "cell_type": "markdown",
   "id": "953c2330",
   "metadata": {},
   "source": [
    "___"
   ]
  },
  {
   "cell_type": "markdown",
   "id": "e07535c0",
   "metadata": {},
   "source": [
    "## Curvas de Aprendizado e Trade-off Viés/Variância"
   ]
  },
  {
   "cell_type": "markdown",
   "id": "2829f2e7",
   "metadata": {},
   "source": [
    "O erro de generalização de um modelo pode ser expresso como a soma de três erros distintos:\n",
    "\n",
    "***Viés:***\n",
    "\n",
    "    * Este erro se deve a suposições erradas sobre o modelo, como a forma funcional por exemplo. Um alto viés pode resultar em um modelo subajustado.\n",
    "    \n",
    "***Variância*** \n",
    "\n",
    "    * Este erro se deve ao excesso de sensibilidade do modelo a pequenas variações nos dados de treino. Um modelo com muitos graus de liberdade, como um modelo polinomial de alto grau, pode ter alta variância e se sobreajustar aos dados.\n",
    "    \n",
    "    \n",
    "***Erro irredutível***\n",
    "\n",
    "    * São os ruídos dos dados. Para reduzí-lo podemos limpar os dados e/ou melhorar a fonte."
   ]
  },
  {
   "cell_type": "markdown",
   "id": "099b7910",
   "metadata": {},
   "source": [
    "*Aumentar a complexidade do modelo aumenta a variância e reduz o viés e vice-versa.*\n",
    "\n",
    "    * Alto viés: Modelo subajustado\n",
    "    * Alta Variância: Modelo sobreajustado"
   ]
  },
  {
   "cell_type": "code",
   "execution_count": 26,
   "id": "2823b6a8",
   "metadata": {},
   "outputs": [],
   "source": [
    "# Create some data\n",
    "m = 100\n",
    "X = 2 * np.random.rand(100, 1)\n",
    "y = 4 + 3 * X + np.random.rand(100, 1)"
   ]
  },
  {
   "cell_type": "code",
   "execution_count": 27,
   "id": "ad42a0b9",
   "metadata": {},
   "outputs": [],
   "source": [
    "from sklearn.metrics import mean_squared_error\n",
    "from sklearn.model_selection import train_test_split\n",
    "\n",
    "def plot_learning_curves(model, X, y):\n",
    "    X_train, X_val, y_train, y_val = train_test_split(X, y, test_size = 0.2)\n",
    "    train_errors, val_errors = [], []\n",
    "    \n",
    "    for m in range(1, len(X_train)):\n",
    "        model.fit(X_train[:m], y_train[:m])\n",
    "        y_train_predict = model.predict(X_train[:m])\n",
    "        y_val_predict = model.predict(X_val)\n",
    "        train_errors.append(mean_squared_error(y_train[:m], y_train_predict))\n",
    "        val_errors.append(mean_squared_error(y_val, y_val_predict))\n",
    "    \n",
    "    # PLot\n",
    "    plt.figure(figsize = (10,6))\n",
    "    plt.plot(np.sqrt(train_errors), 'r-+', linewidth = 2, label = 'train')\n",
    "    plt.plot(np.sqrt(val_errors), 'b-', linewidth = 3, label = 'val')\n",
    "    plt.title('Viés/Variância', fontsize = 16)\n",
    "    plt.xlabel('Training set size')\n",
    "    plt.ylabel('RMSE')\n",
    "    plt.legend()\n",
    "    plt.show()"
   ]
  },
  {
   "cell_type": "code",
   "execution_count": 28,
   "id": "c7beddc0",
   "metadata": {},
   "outputs": [
    {
     "data": {
      "image/png": "[encoded data removed]",
      "text/plain": [
       "<Figure size 720x432 with 1 Axes>"
      ]
     },
     "metadata": {
      "needs_background": "light"
     },
     "output_type": "display_data"
    }
   ],
   "source": [
    "# model\n",
    "lin_reg = LinearRegression()\n",
    "\n",
    "plot_learning_curves(lin_reg, X, y)"
   ]
  },
  {
   "cell_type": "markdown",
   "id": "0281096a",
   "metadata": {},
   "source": [
    "___"
   ]
  },
  {
   "cell_type": "markdown",
   "id": "21cb2832",
   "metadata": {},
   "source": [
    "# <center> Modelos Regularizados"
   ]
  },
  {
   "cell_type": "markdown",
   "id": "f680ac2e",
   "metadata": {},
   "source": [
    "Uma maneira de reduzir o sobreajuste é regularizar ou restringir o modelo. Em casos de modelos polinomiais uma forma simples de restringir é reduzir o grau. Já em modelos lineares a regularização pode ser obtida restringindo os pesos do modelo.\n",
    "\n",
    "A maioria dos modelos de regularização são sensíveis a escala dos dados, portanto, é essencial que o dados sejam escalonados antes de aplicar algum modelo de regressão regularizado."
   ]
  },
  {
   "cell_type": "markdown",
   "id": "c610ea96",
   "metadata": {},
   "source": [
    "# Ridge Regression"
   ]
  },
  {
   "cell_type": "markdown",
   "id": "ab61802a",
   "metadata": {},
   "source": [
    "A regressão ridge adiciona um termo de regularização à regressão linear. O parâmetro adicionado é o somatório do quadrado dos pesos.\n",
    "\n",
    "\n",
    "### $ J(\\beta) = MSE(\\beta) + \\alpha\\frac{1}{2}\\sum_{i = 1}^{n}\\beta_{i}^{2}   $\n",
    "\n",
    "\n",
    "### $ \\hat{\\beta}  = (X^{T}\\alpha X)^{-1} X^{T} y $"
   ]
  },
  {
   "cell_type": "code",
   "execution_count": 29,
   "id": "60418542",
   "metadata": {},
   "outputs": [],
   "source": [
    "# Create some data\n",
    "X = 2 * np.random.rand(100, 1)\n",
    "y = 4 + 3 * X + np.random.rand(100, 1)\n",
    "\n",
    "# add poly\n",
    "from sklearn.preprocessing import PolynomialFeatures\n",
    "\n",
    "poly_features = PolynomialFeatures(degree = 3, include_bias = False)\n",
    "X_poly = poly_features.fit_transform(X)"
   ]
  },
  {
   "cell_type": "code",
   "execution_count": 30,
   "id": "7d990fae",
   "metadata": {},
   "outputs": [],
   "source": [
    "# Import \n",
    "from sklearn.preprocessing import StandardScaler\n",
    "\n",
    "# Padronizar\n",
    "X_std = StandardScaler().fit(X).transform(X)\n",
    "XPoly_std = StandardScaler().fit(X_poly).transform(X_poly)"
   ]
  },
  {
   "cell_type": "markdown",
   "id": "7765c341",
   "metadata": {},
   "source": [
    "### Modelo linear"
   ]
  },
  {
   "cell_type": "code",
   "execution_count": 31,
   "id": "ad339390",
   "metadata": {},
   "outputs": [],
   "source": [
    "# import\n",
    "from sklearn.linear_model import Ridge\n",
    "from sklearn.linear_model import LinearRegression\n",
    "\n",
    "# linear\n",
    "linear_reg = LinearRegression().fit(X_std, y)\n",
    "\n",
    "# ridge alpha 0\n",
    "ridge_reg0 = Ridge(alpha = 0, solver = 'cholesky').fit(X_std, y)\n",
    "\n",
    "# ridge alpha \n",
    "ridge_reg01 = Ridge(alpha = -20, solver = 'cholesky').fit(X_std, y)\n",
    "\n",
    "# ridge alpha \n",
    "ridge_reg1 = Ridge(alpha = 20, solver = 'cholesky').fit(X_std, y)"
   ]
  },
  {
   "cell_type": "code",
   "execution_count": 32,
   "id": "5d984e49",
   "metadata": {},
   "outputs": [],
   "source": [
    "# predict\n",
    "predict = linear_reg.predict(X_std)\n",
    "predict0 = ridge_reg0.predict(X_std)\n",
    "predict01 = ridge_reg01.predict(X_std)\n",
    "predict1 = ridge_reg1.predict(X_std)"
   ]
  },
  {
   "cell_type": "code",
   "execution_count": 33,
   "id": "2166d91c",
   "metadata": {},
   "outputs": [
    {
     "data": {
      "image/png": "[encoded data removed]",
      "text/plain": [
       "<Figure size 720x432 with 1 Axes>"
      ]
     },
     "metadata": {
      "needs_background": "light"
     },
     "output_type": "display_data"
    }
   ],
   "source": [
    "# PLot\n",
    "plt.figure(figsize = (10,6))\n",
    "\n",
    "plt.plot(X, y, 'k.', markersize = 12, alpha = 0.5)\n",
    "plt.plot(X, predict, 'b-', label = 'Linear', alpha = 0.8)\n",
    "plt.plot(X, predict0, 'r-', label = 'Ridge alpha 0', alpha = 0.8)\n",
    "plt.plot(X, predict01, 'g-', label = 'Ridge alpha -20', alpha = 0.8)\n",
    "plt.plot(X, predict1, 'c-', label = 'Ridge alpha 20', alpha = 0.8)\n",
    "plt.title('Regularização', fontsize = 16)\n",
    "#plt.axis([0,2,0,15])\n",
    "plt.legend()\n",
    "plt.show()"
   ]
  },
  {
   "cell_type": "markdown",
   "id": "b542dec9",
   "metadata": {},
   "source": [
    "Quando alpha = 0, a regularização desaparece e retornamos ao modelo de regressão linear."
   ]
  },
  {
   "cell_type": "markdown",
   "id": "5e05a737",
   "metadata": {},
   "source": [
    "### Modelo polinomial"
   ]
  },
  {
   "cell_type": "code",
   "execution_count": 34,
   "id": "345c9744",
   "metadata": {},
   "outputs": [],
   "source": [
    "# Equação quadrática simples\n",
    "m = 100\n",
    "X = 6 * np.random.rand(m, 1) - 3\n",
    "y = X**3 + X**2 + X + 2 + 2* np.random.randn(m, 1)\n",
    "\n",
    "# add poly\n",
    "from sklearn.preprocessing import PolynomialFeatures\n",
    "\n",
    "poly_features = PolynomialFeatures(degree = 3, include_bias = False)\n",
    "X_poly = poly_features.fit_transform(X)"
   ]
  },
  {
   "cell_type": "code",
   "execution_count": 35,
   "id": "256d7284",
   "metadata": {},
   "outputs": [],
   "source": [
    "# Import \n",
    "from sklearn.preprocessing import StandardScaler\n",
    "\n",
    "# Padronizar\n",
    "X_std = StandardScaler().fit(X).transform(X)\n",
    "XPoly_std = StandardScaler().fit(X_poly).transform(X_poly)"
   ]
  },
  {
   "cell_type": "code",
   "execution_count": 36,
   "id": "08ca44ca",
   "metadata": {},
   "outputs": [],
   "source": [
    "# import\n",
    "from sklearn.linear_model import Ridge\n",
    "from sklearn.linear_model import LinearRegression\n",
    "\n",
    "# linear\n",
    "linear_reg = LinearRegression().fit(XPoly_std, y)\n",
    "\n",
    "# ridge alpha \n",
    "ridge_reg0 = Ridge(alpha = -5, solver = 'cholesky').fit(XPoly_std, y)\n",
    "\n",
    "# ridge alpha\n",
    "ridge_reg01 = Ridge(alpha = 100, solver = 'cholesky').fit(XPoly_std, y)"
   ]
  },
  {
   "cell_type": "code",
   "execution_count": 37,
   "id": "9c10705a",
   "metadata": {},
   "outputs": [],
   "source": [
    "# predict\n",
    "predict = linear_reg.predict(XPoly_std)\n",
    "predict0 = ridge_reg0.predict(XPoly_std)\n",
    "predict01 = ridge_reg01.predict(XPoly_std)"
   ]
  },
  {
   "cell_type": "code",
   "execution_count": 38,
   "id": "dd7d8183",
   "metadata": {},
   "outputs": [
    {
     "data": {
      "image/png": "[encoded data removed]",
      "text/plain": [
       "<Figure size 720x432 with 1 Axes>"
      ]
     },
     "metadata": {
      "needs_background": "light"
     },
     "output_type": "display_data"
    }
   ],
   "source": [
    "# PLot\n",
    "plt.figure(figsize = (10,6))\n",
    "\n",
    "plt.plot(X, y, 'k.', markersize = 14, alpha = 0.35)\n",
    "plt.plot(X, predict, 'b.', label = 'Linear', alpha = 0.7)\n",
    "plt.plot(X, predict0, 'r.', label = 'Ridge alpha -5', alpha = 0.7)\n",
    "plt.plot(X, predict01, 'g.', label = 'Ridge alpha 100', alpha = 0.7)\n",
    "plt.title('Regularização', fontsize = 16)\n",
    "#plt.axis([0,2,0,15])\n",
    "plt.legend()\n",
    "plt.show()"
   ]
  },
  {
   "cell_type": "markdown",
   "id": "06859ae4",
   "metadata": {},
   "source": [
    "___"
   ]
  },
  {
   "cell_type": "markdown",
   "id": "74ff8fb8",
   "metadata": {},
   "source": [
    "# Lasso Regression"
   ]
  },
  {
   "cell_type": "markdown",
   "id": "d3311793",
   "metadata": {},
   "source": [
    "A regressão lasso também adiciona um termo de regularização à regressão linear. O termo adicionado é somatório do módulo dos pesos.\n",
    "\n",
    "### $ J(\\beta) = MSE(\\beta) + \\alpha\\sum_{i = 1}^{n}|\\beta_{i}|   $\n",
    "\n",
    "\n",
    "#### $ \\triangledown_{\\beta}MSE(\\beta) = \\frac{2}{m} X^{T}(X\\beta - y)  $\n",
    "\n",
    "\n",
    "### $ g(\\beta, J) = \\triangledown_{\\beta}MSE(\\beta) + \\alpha \\begin{pmatrix} sign(\\beta_{1}) \\\\ sign(\\beta_{2}) \\\\ ... \\\\ sign(\\beta_{n}) \\end{pmatrix} $ quando $ sign(\\beta_{i}) = \\begin{cases} -1 & if \\beta_{i} < 0 \\\\ 0 & if \\beta_{i} = 0\\\\ +1 & if \\beta_{i} > 0 \\end{cases}$ "
   ]
  },
  {
   "cell_type": "code",
   "execution_count": 39,
   "id": "416f4ed3",
   "metadata": {},
   "outputs": [],
   "source": [
    "# Create some data\n",
    "X = 2 * np.random.rand(100, 1)\n",
    "y = 4 + 3 * X + np.random.rand(100, 1)\n",
    "\n",
    "# add poly\n",
    "from sklearn.preprocessing import PolynomialFeatures\n",
    "\n",
    "poly_features = PolynomialFeatures(degree = 3, include_bias = False)\n",
    "X_poly = poly_features.fit_transform(X)"
   ]
  },
  {
   "cell_type": "code",
   "execution_count": 40,
   "id": "5d4010b2",
   "metadata": {},
   "outputs": [],
   "source": [
    "# Import \n",
    "from sklearn.preprocessing import StandardScaler\n",
    "\n",
    "# Padronizar\n",
    "X_std = StandardScaler().fit(X).transform(X)\n",
    "XPoly_std = StandardScaler().fit(X_poly).transform(X_poly)"
   ]
  },
  {
   "cell_type": "markdown",
   "id": "4443a26c",
   "metadata": {},
   "source": [
    "### Modelo linear"
   ]
  },
  {
   "cell_type": "code",
   "execution_count": 41,
   "id": "a666b771",
   "metadata": {},
   "outputs": [],
   "source": [
    "# import\n",
    "from sklearn.linear_model import Lasso\n",
    "from sklearn.linear_model import LinearRegression\n",
    "\n",
    "# linear\n",
    "linear_reg = LinearRegression().fit(X_std, y)\n",
    "\n",
    "# ridge alpha 0\n",
    "lasso_reg0 = Lasso(alpha = 0).fit(X_std, y)\n",
    "\n",
    "# ridge alpha\n",
    "lasso_reg01 = Lasso(alpha = -2).fit(X_std, y)\n",
    "\n",
    "# ridge alpha\n",
    "lasso_reg1 = Lasso(alpha = -1).fit(X_std, y)"
   ]
  },
  {
   "cell_type": "code",
   "execution_count": 42,
   "id": "b1ba4749",
   "metadata": {},
   "outputs": [],
   "source": [
    "# predict\n",
    "predict = linear_reg.predict(X_std)\n",
    "predict0 = lasso_reg0.predict(X_std)\n",
    "predict01 = lasso_reg01.predict(X_std)\n",
    "predict1 = lasso_reg1.predict(X_std)"
   ]
  },
  {
   "cell_type": "code",
   "execution_count": 43,
   "id": "2d650b12",
   "metadata": {},
   "outputs": [
    {
     "data": {
      "image/png": "[encoded data removed]",
      "text/plain": [
       "<Figure size 720x432 with 1 Axes>"
      ]
     },
     "metadata": {
      "needs_background": "light"
     },
     "output_type": "display_data"
    }
   ],
   "source": [
    "# PLot\n",
    "plt.figure(figsize = (10,6))\n",
    "\n",
    "plt.plot(X, y, 'k.', markersize = 12, alpha = 0.5)\n",
    "plt.plot(X, predict, 'b-', label = 'Linear', alpha = 0.7)\n",
    "plt.plot(X, predict0, 'r-', label = 'Lasso alpha 0', alpha = 0.7)\n",
    "plt.plot(X, predict01, 'g-', label = 'Lasso alpha -2', alpha = 0.7)\n",
    "plt.plot(X, predict1, 'c-', label = 'Lasso alpha -1', alpha = 0.7)\n",
    "plt.title('Regularização', fontsize = 16)\n",
    "#plt.axis([0,2,0,15])\n",
    "plt.legend()\n",
    "plt.show()"
   ]
  },
  {
   "cell_type": "markdown",
   "id": "37661361",
   "metadata": {},
   "source": [
    "Quando alpha = 0, a regularização desaparece e retornamos ao modelo de regressão linear."
   ]
  },
  {
   "cell_type": "markdown",
   "id": "fbc36f2c",
   "metadata": {},
   "source": [
    "### Modelo polinomial"
   ]
  },
  {
   "cell_type": "code",
   "execution_count": 44,
   "id": "1954ca41",
   "metadata": {},
   "outputs": [],
   "source": [
    "# Equação quadrática simples\n",
    "m = 100\n",
    "X = 6 * np.random.rand(m, 1) - 3\n",
    "y = X**3 + X**2 + X + 2 + 2* np.random.randn(m, 1)\n",
    "\n",
    "# add poly\n",
    "from sklearn.preprocessing import PolynomialFeatures\n",
    "\n",
    "poly_features = PolynomialFeatures(degree = 3, include_bias = False)\n",
    "X_poly = poly_features.fit_transform(X)"
   ]
  },
  {
   "cell_type": "code",
   "execution_count": 45,
   "id": "247d0a6c",
   "metadata": {},
   "outputs": [],
   "source": [
    "# Import \n",
    "from sklearn.preprocessing import StandardScaler\n",
    "\n",
    "# Padronizar\n",
    "X_std = StandardScaler().fit(X).transform(X)\n",
    "XPoly_std = StandardScaler().fit(X_poly).transform(X_poly)"
   ]
  },
  {
   "cell_type": "code",
   "execution_count": 46,
   "id": "dc0e1e68",
   "metadata": {},
   "outputs": [],
   "source": [
    "# import\n",
    "from sklearn.linear_model import Lasso\n",
    "from sklearn.linear_model import LinearRegression\n",
    "\n",
    "# linear\n",
    "linear_reg = LinearRegression().fit(XPoly_std, y)\n",
    "\n",
    "# lasso alpha\n",
    "lasso_reg0 = Lasso(alpha = -1).fit(XPoly_std, y)\n",
    "\n",
    "# lasso alpha\n",
    "lasso_reg01 = Lasso(alpha = 5).fit(XPoly_std, y)"
   ]
  },
  {
   "cell_type": "code",
   "execution_count": 47,
   "id": "e4526da0",
   "metadata": {},
   "outputs": [],
   "source": [
    "# predict\n",
    "predict = linear_reg.predict(XPoly_std)\n",
    "predict0 = lasso_reg0.predict(XPoly_std)\n",
    "predict01 = lasso_reg01.predict(XPoly_std)"
   ]
  },
  {
   "cell_type": "code",
   "execution_count": 48,
   "id": "4be905fb",
   "metadata": {},
   "outputs": [
    {
     "data": {
      "image/png": "[encoded data removed]",
      "text/plain": [
       "<Figure size 720x432 with 1 Axes>"
      ]
     },
     "metadata": {
      "needs_background": "light"
     },
     "output_type": "display_data"
    }
   ],
   "source": [
    "# PLot\n",
    "plt.figure(figsize = (10,6))\n",
    "\n",
    "plt.plot(X, y, 'k.', markersize = 12, alpha = 0.3)\n",
    "plt.plot(X, predict, 'b.', label = 'Linear', alpha = 0.7)\n",
    "plt.plot(X, predict0, 'r.', label = 'Lasso alpha -1.5', alpha = 0.7)\n",
    "plt.plot(X, predict01, 'g.', label = 'Lasso alpha 5', alpha = 0.7)\n",
    "plt.title('Regularização', fontsize = 16)\n",
    "#plt.axis([0,2,0,15])\n",
    "plt.legend()\n",
    "plt.show()"
   ]
  },
  {
   "cell_type": "markdown",
   "id": "88c04f6e",
   "metadata": {},
   "source": [
    "___"
   ]
  },
  {
   "cell_type": "markdown",
   "id": "6fee89f0",
   "metadata": {},
   "source": [
    "# Elastic Net Regression"
   ]
  },
  {
   "cell_type": "markdown",
   "id": "dcfedcff",
   "metadata": {},
   "source": [
    "A regressão elastic net combina as regularizações ridge e lasso, permitindo que o peso de cada uma seja controlado.\n",
    "\n",
    "$ J(\\beta) = MSE(\\beta) + r\\alpha\\sum_{i = 1}^{n}|\\beta_{i}| + \\frac{1 - r}{2}\\alpha\\sum_{i = 1}^{n}\\beta_{i}^{2}   $"
   ]
  },
  {
   "cell_type": "code",
   "execution_count": 49,
   "id": "81da5ec8",
   "metadata": {},
   "outputs": [],
   "source": [
    "# Create some data\n",
    "X = 2 * np.random.rand(100, 1)\n",
    "y = 4 + 3 * X + np.random.rand(100, 1)\n",
    "\n",
    "# add poly\n",
    "from sklearn.preprocessing import PolynomialFeatures\n",
    "\n",
    "poly_features = PolynomialFeatures(degree = 3, include_bias = False)\n",
    "X_poly = poly_features.fit_transform(X)"
   ]
  },
  {
   "cell_type": "code",
   "execution_count": 50,
   "id": "5281745c",
   "metadata": {},
   "outputs": [],
   "source": [
    "# Import \n",
    "from sklearn.preprocessing import StandardScaler\n",
    "\n",
    "# Padronizar\n",
    "X_std = StandardScaler().fit(X).transform(X)\n",
    "XPoly_std = StandardScaler().fit(X_poly).transform(X_poly)"
   ]
  },
  {
   "cell_type": "markdown",
   "id": "c9011a3e",
   "metadata": {},
   "source": [
    "### Modelo linear"
   ]
  },
  {
   "cell_type": "code",
   "execution_count": 51,
   "id": "f9665740",
   "metadata": {},
   "outputs": [],
   "source": [
    "# import\n",
    "from sklearn.linear_model import ElasticNet\n",
    "from sklearn.linear_model import LinearRegression\n",
    "\n",
    "# linear\n",
    "linear_reg = LinearRegression().fit(X_std, y)\n",
    "\n",
    "# ElasticNet alpha 0\n",
    "elastic_reg0 = ElasticNet(alpha = 0).fit(X_std, y)\n",
    "\n",
    "# ElasticNet alpha -1\n",
    "elastic_reg01 = ElasticNet(alpha = -1).fit(X_std, y)\n",
    "\n",
    "# ElasticNet alpha 1\n",
    "elastic_reg1 = ElasticNet(alpha = 1).fit(X_std, y)"
   ]
  },
  {
   "cell_type": "code",
   "execution_count": 52,
   "id": "9ffa53aa",
   "metadata": {},
   "outputs": [],
   "source": [
    "# predict\n",
    "predict = linear_reg.predict(X_std)\n",
    "predict0 = elastic_reg0.predict(X_std)\n",
    "predict01 = elastic_reg01.predict(X_std)\n",
    "predict1 = elastic_reg1.predict(X_std)"
   ]
  },
  {
   "cell_type": "code",
   "execution_count": 53,
   "id": "91035aec",
   "metadata": {},
   "outputs": [
    {
     "data": {
      "image/png": "[encoded data removed]",
      "text/plain": [
       "<Figure size 720x432 with 1 Axes>"
      ]
     },
     "metadata": {
      "needs_background": "light"
     },
     "output_type": "display_data"
    }
   ],
   "source": [
    "# PLot\n",
    "plt.figure(figsize = (10,6))\n",
    "\n",
    "plt.plot(X, y, 'k.', markersize = 12, alpha = 0.5)\n",
    "plt.plot(X, predict, 'b-', label = 'Linear', alpha = 0.7)\n",
    "plt.plot(X, predict0, 'r-', label = 'Ridge alpha 0', alpha = 0.7)\n",
    "plt.plot(X, predict01, 'g-', label = 'Ridge alpha -1', alpha = 0.7)\n",
    "plt.plot(X, predict1, 'c-', label = 'Ridge alpha 1', alpha = 0.7)\n",
    "plt.title('Regularização', fontsize = 16)\n",
    "#plt.axis([0,2,0,15])\n",
    "plt.legend()\n",
    "plt.show()"
   ]
  },
  {
   "cell_type": "markdown",
   "id": "e6b76dd4",
   "metadata": {},
   "source": [
    "Quando alpha = 0, a regularização desaparece e retornamos ao modelo de regressão linear."
   ]
  },
  {
   "cell_type": "markdown",
   "id": "2f342d7d",
   "metadata": {},
   "source": [
    "### Modelo polinomial"
   ]
  },
  {
   "cell_type": "code",
   "execution_count": 54,
   "id": "fd92246d",
   "metadata": {},
   "outputs": [],
   "source": [
    "# Equação quadrática simples\n",
    "m = 100\n",
    "X = 6 * np.random.rand(m, 1) - 3\n",
    "y = X**3 + X**2 + X + 2 + 2* np.random.randn(m, 1)\n",
    "\n",
    "# add poly\n",
    "from sklearn.preprocessing import PolynomialFeatures\n",
    "\n",
    "poly_features = PolynomialFeatures(degree = 3, include_bias = False)\n",
    "X_poly = poly_features.fit_transform(X)"
   ]
  },
  {
   "cell_type": "code",
   "execution_count": 55,
   "id": "bf665f43",
   "metadata": {},
   "outputs": [],
   "source": [
    "# Import \n",
    "from sklearn.preprocessing import StandardScaler\n",
    "\n",
    "# Padronizar\n",
    "X_std = StandardScaler().fit(X).transform(X)\n",
    "XPoly_std = StandardScaler().fit(X_poly).transform(X_poly)"
   ]
  },
  {
   "cell_type": "code",
   "execution_count": 56,
   "id": "2e90618c",
   "metadata": {},
   "outputs": [],
   "source": [
    "# import\n",
    "from sklearn.linear_model import ElasticNet\n",
    "from sklearn.linear_model import LinearRegression\n",
    "\n",
    "# linear\n",
    "linear_reg = LinearRegression().fit(XPoly_std, y)\n",
    "\n",
    "# ElasticNet alpha 0\n",
    "elastic_reg0 = ElasticNet(alpha = -0.1).fit(XPoly_std, y)\n",
    "\n",
    "# ElasticNet alpha -1\n",
    "elastic_reg01 = ElasticNet(alpha = 1).fit(XPoly_std, y)"
   ]
  },
  {
   "cell_type": "code",
   "execution_count": 57,
   "id": "bfa3810b",
   "metadata": {},
   "outputs": [],
   "source": [
    "# predict\n",
    "predict = linear_reg.predict(XPoly_std)\n",
    "predict0 = elastic_reg0.predict(XPoly_std)\n",
    "predict01 = elastic_reg01.predict(XPoly_std)"
   ]
  },
  {
   "cell_type": "code",
   "execution_count": 58,
   "id": "1b302569",
   "metadata": {},
   "outputs": [
    {
     "data": {
      "image/png": "[encoded data removed]",
      "text/plain": [
       "<Figure size 720x432 with 1 Axes>"
      ]
     },
     "metadata": {
      "needs_background": "light"
     },
     "output_type": "display_data"
    }
   ],
   "source": [
    "# PLot\n",
    "plt.figure(figsize = (10,6))\n",
    "\n",
    "plt.plot(X, y, 'k.', markersize = 12, alpha = 0.3)\n",
    "plt.plot(X, predict, 'b.', label = 'Linear', alpha = 0.7)\n",
    "plt.plot(X, predict0, 'r.', label = 'Ridge alpha -0.1', alpha = 0.7)\n",
    "plt.plot(X, predict01, 'g.', label = 'Ridge alpha 1', alpha = 0.7)\n",
    "plt.title('Regularização', fontsize = 16)\n",
    "#plt.axis([0,2,0,15])\n",
    "plt.legend()\n",
    "plt.show()"
   ]
  },
  {
   "cell_type": "markdown",
   "id": "df10a7b2",
   "metadata": {},
   "source": [
    "___"
   ]
  }
 ],
 "metadata": {
  "kernelspec": {
   "display_name": "Python 3 (ipykernel)",
   "language": "python",
   "name": "python3"
  },
  "language_info": {
   "codemirror_mode": {
    "name": "ipython",
    "version": 3
   },
   "file_extension": ".py",
   "mimetype": "text/x-python",
   "name": "python",
   "nbconvert_exporter": "python",
   "pygments_lexer": "ipython3",
   "version": "3.8.8"
  }
 },
 "nbformat": 4,
 "nbformat_minor": 5
}
